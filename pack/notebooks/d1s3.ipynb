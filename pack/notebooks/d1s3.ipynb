{
 "cells": [
  {
   "cell_type": "markdown",
   "metadata": {},
   "source": [
    "# Data Wrangling\n"
   ]
  },
  {
   "cell_type": "markdown",
   "metadata": {},
   "source": [
    "---"
   ]
  },
  {
   "cell_type": "code",
   "execution_count": 28,
   "metadata": {},
   "outputs": [],
   "source": [
    "%matplotlib inline\n",
    "\n",
    "import pandas as pd\n",
    "import numpy as np\n"
   ]
  },
  {
   "cell_type": "markdown",
   "metadata": {},
   "source": [
    "To note:\n",
    "- `matplotlib` magic\n",
    "- Library import and alias"
   ]
  },
  {
   "cell_type": "markdown",
   "metadata": {},
   "source": [
    "## Gathering data"
   ]
  },
  {
   "cell_type": "markdown",
   "metadata": {},
   "source": [
    "### Manual download\n",
    "\n",
    "> [http://insideairbnb.com/get-the-data.html](http://insideairbnb.com/get-the-data.html)\n",
    "\n",
    "![InsideAirBnb London](../figs/d1s3_iabb_download.png)\n",
    "\n",
    "* `listings.csv.gz`\n",
    "* `neighbourhouds.geojson`"
   ]
  },
  {
   "cell_type": "markdown",
   "metadata": {},
   "source": [
    "### Automated\n",
    "\n",
    "[Optional]"
   ]
  },
  {
   "cell_type": "code",
   "execution_count": 29,
   "metadata": {},
   "outputs": [],
   "source": [
    "import requests\n",
    "\n",
    "lst_url = 'http://data.insideairbnb.com/united-kingdom/england/london/2017-03-04/data/listings.csv.gz'\n",
    "nbh_url = 'http://data.insideairbnb.com/united-kingdom/england/london/2017-03-04/visualisations/neighbourhoods.geojson'"
   ]
  },
  {
   "cell_type": "markdown",
   "metadata": {},
   "source": [
    "* Download listings"
   ]
  },
  {
   "cell_type": "code",
   "execution_count": 30,
   "metadata": {},
   "outputs": [],
   "source": [
    "# request object\n",
    "r = requests.get(lst_url)\n",
    "# Open target file for writing binary data\n",
    "fo = open('data/listings.csv.gz', 'wb')\n",
    "# Write file content\n",
    "fo.write(r.content)\n",
    "# Close file\n",
    "fo.close()"
   ]
  },
  {
   "cell_type": "markdown",
   "metadata": {},
   "source": [
    "**`Exercise`**: download the neighbourhoods file\n",
    "\n",
    "To note:\n",
    "\n",
    "* Download through `requests.get`\n",
    "* Open/write/close local file\n",
    "* Comments (`#`)"
   ]
  },
  {
   "cell_type": "markdown",
   "metadata": {},
   "source": [
    "* **[Advanced]** Download both in a loop"
   ]
  },
  {
   "cell_type": "code",
   "execution_count": 31,
   "metadata": {},
   "outputs": [
    {
     "name": "stdout",
     "output_type": "stream",
     "text": [
      "Wall time: 19.8 s\n"
     ]
    }
   ],
   "source": [
    "%%time\n",
    "for url in [lst_url, nbh_url]:\n",
    "    # request object\n",
    "    r = requests.get(url)\n",
    "    # pull file name\n",
    "    name = url.split('/')[-1]\n",
    "    # Open target file for writing binary data\n",
    "    fo = open('data/'+name, 'wb')\n",
    "    # Write file content\n",
    "    fo.write(r.content)\n",
    "    # Close file\n",
    "    fo.close()"
   ]
  },
  {
   "cell_type": "markdown",
   "metadata": {},
   "source": [
    "To note:\n",
    "* `%%time` magic\n",
    "* Loop over a list\n",
    "* Variable `url`\n",
    "* Pull out name\n",
    "* Compose target file path"
   ]
  },
  {
   "cell_type": "markdown",
   "metadata": {},
   "source": [
    "## `File I/O:` Reading data in"
   ]
  },
  {
   "cell_type": "code",
   "execution_count": 32,
   "metadata": {},
   "outputs": [
    {
     "name": "stderr",
     "output_type": "stream",
     "text": [
      "C:\\Users\\Eugeni\\Anaconda3\\envs\\gds\\lib\\site-packages\\IPython\\core\\interactiveshell.py:2728: DtypeWarning: Columns (88) have mixed types. Specify dtype option on import or set low_memory=False.\n",
      "  interactivity=interactivity, compiler=compiler, result=result)\n"
     ]
    }
   ],
   "source": [
    "lst = pd.read_csv('data/listings.csv.gz')"
   ]
  },
  {
   "cell_type": "markdown",
   "metadata": {},
   "source": [
    "To note:\n",
    "\n",
    "* `read_XXX` pattern\n",
    "* Path to file\n",
    "* Reading a compressed (or remote) file\n",
    "* Storing object `lst`\n",
    "* Introduce the `DataFrame` and columns (`Series`)"
   ]
  },
  {
   "cell_type": "code",
   "execution_count": 33,
   "metadata": {},
   "outputs": [
    {
     "name": "stdout",
     "output_type": "stream",
     "text": [
      "<class 'pandas.core.frame.DataFrame'>\n",
      "RangeIndex: 53904 entries, 0 to 53903\n",
      "Data columns (total 95 columns):\n",
      "id                                  53904 non-null int64\n",
      "listing_url                         53904 non-null object\n",
      "scrape_id                           53904 non-null int64\n",
      "last_scraped                        53904 non-null object\n",
      "name                                53903 non-null object\n",
      "summary                             52458 non-null object\n",
      "space                               36277 non-null object\n",
      "description                         53894 non-null object\n",
      "experiences_offered                 53904 non-null object\n",
      "neighborhood_overview               31289 non-null object\n",
      "notes                               20617 non-null object\n",
      "transit                             32798 non-null object\n",
      "access                              31287 non-null object\n",
      "interaction                         29242 non-null object\n",
      "house_rules                         33374 non-null object\n",
      "thumbnail_url                       47050 non-null object\n",
      "medium_url                          47050 non-null object\n",
      "picture_url                         53904 non-null object\n",
      "xl_picture_url                      47050 non-null object\n",
      "host_id                             53904 non-null int64\n",
      "host_url                            53904 non-null object\n",
      "host_name                           53895 non-null object\n",
      "host_since                          53895 non-null object\n",
      "host_location                       53664 non-null object\n",
      "host_about                          32703 non-null object\n",
      "host_response_time                  40524 non-null object\n",
      "host_response_rate                  40524 non-null object\n",
      "host_acceptance_rate                0 non-null float64\n",
      "host_is_superhost                   53895 non-null object\n",
      "host_thumbnail_url                  53895 non-null object\n",
      "host_picture_url                    53895 non-null object\n",
      "host_neighbourhood                  40797 non-null object\n",
      "host_listings_count                 53895 non-null float64\n",
      "host_total_listings_count           53895 non-null float64\n",
      "host_verifications                  53904 non-null object\n",
      "host_has_profile_pic                53895 non-null object\n",
      "host_identity_verified              53895 non-null object\n",
      "street                              53904 non-null object\n",
      "neighbourhood                       35920 non-null object\n",
      "neighbourhood_cleansed              53904 non-null object\n",
      "neighbourhood_group_cleansed        0 non-null float64\n",
      "city                                53883 non-null object\n",
      "state                               29130 non-null object\n",
      "zipcode                             52542 non-null object\n",
      "market                              52413 non-null object\n",
      "smart_location                      53904 non-null object\n",
      "country_code                        53904 non-null object\n",
      "country                             53904 non-null object\n",
      "latitude                            53904 non-null float64\n",
      "longitude                           53904 non-null float64\n",
      "is_location_exact                   53904 non-null object\n",
      "property_type                       53904 non-null object\n",
      "room_type                           53904 non-null object\n",
      "accommodates                        53904 non-null int64\n",
      "bathrooms                           53644 non-null float64\n",
      "bedrooms                            53811 non-null float64\n",
      "beds                                53731 non-null float64\n",
      "bed_type                            53904 non-null object\n",
      "amenities                           53904 non-null object\n",
      "square_feet                         582 non-null float64\n",
      "price                               53904 non-null object\n",
      "weekly_price                        11742 non-null object\n",
      "monthly_price                       8635 non-null object\n",
      "security_deposit                    23674 non-null object\n",
      "cleaning_fee                        32483 non-null object\n",
      "guests_included                     53904 non-null int64\n",
      "extra_people                        53904 non-null object\n",
      "minimum_nights                      53904 non-null int64\n",
      "maximum_nights                      53904 non-null int64\n",
      "calendar_updated                    53904 non-null object\n",
      "has_availability                    0 non-null float64\n",
      "availability_30                     53904 non-null int64\n",
      "availability_60                     53904 non-null int64\n",
      "availability_90                     53904 non-null int64\n",
      "availability_365                    53904 non-null int64\n",
      "calendar_last_scraped               53904 non-null object\n",
      "number_of_reviews                   53904 non-null int64\n",
      "first_review                        37438 non-null object\n",
      "last_review                         37438 non-null object\n",
      "review_scores_rating                36642 non-null float64\n",
      "review_scores_accuracy              36529 non-null float64\n",
      "review_scores_cleanliness           36562 non-null float64\n",
      "review_scores_checkin               36474 non-null float64\n",
      "review_scores_communication         36560 non-null float64\n",
      "review_scores_location              36487 non-null float64\n",
      "review_scores_value                 36477 non-null float64\n",
      "requires_license                    53904 non-null object\n",
      "license                             0 non-null float64\n",
      "jurisdiction_names                  1 non-null object\n",
      "instant_bookable                    53904 non-null object\n",
      "cancellation_policy                 53904 non-null object\n",
      "require_guest_profile_picture       53904 non-null object\n",
      "require_guest_phone_verification    53904 non-null object\n",
      "calculated_host_listings_count      53904 non-null int64\n",
      "reviews_per_month                   37438 non-null float64\n",
      "dtypes: float64(20), int64(13), object(62)\n",
      "memory usage: 39.1+ MB\n"
     ]
    }
   ],
   "source": [
    "lst.info()"
   ]
  },
  {
   "cell_type": "code",
   "execution_count": 34,
   "metadata": {},
   "outputs": [
    {
     "data": {
      "text/html": [
       "<div>\n",
       "<style scoped>\n",
       "    .dataframe tbody tr th:only-of-type {\n",
       "        vertical-align: middle;\n",
       "    }\n",
       "\n",
       "    .dataframe tbody tr th {\n",
       "        vertical-align: top;\n",
       "    }\n",
       "\n",
       "    .dataframe thead th {\n",
       "        text-align: right;\n",
       "    }\n",
       "</style>\n",
       "<table border=\"1\" class=\"dataframe\">\n",
       "  <thead>\n",
       "    <tr style=\"text-align: right;\">\n",
       "      <th></th>\n",
       "      <th>id</th>\n",
       "      <th>listing_url</th>\n",
       "      <th>scrape_id</th>\n",
       "      <th>last_scraped</th>\n",
       "      <th>name</th>\n",
       "      <th>summary</th>\n",
       "      <th>space</th>\n",
       "      <th>description</th>\n",
       "      <th>experiences_offered</th>\n",
       "      <th>neighborhood_overview</th>\n",
       "      <th>...</th>\n",
       "      <th>review_scores_value</th>\n",
       "      <th>requires_license</th>\n",
       "      <th>license</th>\n",
       "      <th>jurisdiction_names</th>\n",
       "      <th>instant_bookable</th>\n",
       "      <th>cancellation_policy</th>\n",
       "      <th>require_guest_profile_picture</th>\n",
       "      <th>require_guest_phone_verification</th>\n",
       "      <th>calculated_host_listings_count</th>\n",
       "      <th>reviews_per_month</th>\n",
       "    </tr>\n",
       "  </thead>\n",
       "  <tbody>\n",
       "    <tr>\n",
       "      <th>0</th>\n",
       "      <td>15896822</td>\n",
       "      <td>https://www.airbnb.com/rooms/15896822</td>\n",
       "      <td>20170304065726</td>\n",
       "      <td>2017-03-05</td>\n",
       "      <td>Double room in newly refurbished flat</td>\n",
       "      <td>My place is close to TK Max, John Lewis, Marks...</td>\n",
       "      <td>NaN</td>\n",
       "      <td>My place is close to TK Max, John Lewis, Marks...</td>\n",
       "      <td>none</td>\n",
       "      <td>NaN</td>\n",
       "      <td>...</td>\n",
       "      <td>10.0</td>\n",
       "      <td>f</td>\n",
       "      <td>NaN</td>\n",
       "      <td>NaN</td>\n",
       "      <td>f</td>\n",
       "      <td>flexible</td>\n",
       "      <td>f</td>\n",
       "      <td>f</td>\n",
       "      <td>1</td>\n",
       "      <td>0.32</td>\n",
       "    </tr>\n",
       "    <tr>\n",
       "      <th>1</th>\n",
       "      <td>4836957</td>\n",
       "      <td>https://www.airbnb.com/rooms/4836957</td>\n",
       "      <td>20170304065726</td>\n",
       "      <td>2017-03-05</td>\n",
       "      <td>Modern room 25m from Central London</td>\n",
       "      <td>This lovely spacious double bedroom is set in ...</td>\n",
       "      <td>////*** This Price include Parking but not Kit...</td>\n",
       "      <td>This lovely spacious double bedroom is set in ...</td>\n",
       "      <td>family</td>\n",
       "      <td>Kingston upon Thames is a vibrant Surrey marke...</td>\n",
       "      <td>...</td>\n",
       "      <td>10.0</td>\n",
       "      <td>f</td>\n",
       "      <td>NaN</td>\n",
       "      <td>NaN</td>\n",
       "      <td>f</td>\n",
       "      <td>moderate</td>\n",
       "      <td>f</td>\n",
       "      <td>f</td>\n",
       "      <td>1</td>\n",
       "      <td>0.67</td>\n",
       "    </tr>\n",
       "    <tr>\n",
       "      <th>2</th>\n",
       "      <td>13355982</td>\n",
       "      <td>https://www.airbnb.com/rooms/13355982</td>\n",
       "      <td>20170304065726</td>\n",
       "      <td>2017-03-05</td>\n",
       "      <td>Lovely double bedroom in Kingston Upon Thames</td>\n",
       "      <td>Spacious double bedroom, because of the light,...</td>\n",
       "      <td>NaN</td>\n",
       "      <td>Spacious double bedroom, because of the light,...</td>\n",
       "      <td>none</td>\n",
       "      <td>NaN</td>\n",
       "      <td>...</td>\n",
       "      <td>8.0</td>\n",
       "      <td>f</td>\n",
       "      <td>NaN</td>\n",
       "      <td>NaN</td>\n",
       "      <td>f</td>\n",
       "      <td>flexible</td>\n",
       "      <td>f</td>\n",
       "      <td>f</td>\n",
       "      <td>1</td>\n",
       "      <td>0.25</td>\n",
       "    </tr>\n",
       "    <tr>\n",
       "      <th>3</th>\n",
       "      <td>13472704</td>\n",
       "      <td>https://www.airbnb.com/rooms/13472704</td>\n",
       "      <td>20170304065726</td>\n",
       "      <td>2017-03-05</td>\n",
       "      <td>Double Room in North Kingston (Richmond Park)</td>\n",
       "      <td>My place is good for couples, solo adventurers...</td>\n",
       "      <td>We live in a clean but relaxed &amp; friendly envi...</td>\n",
       "      <td>My place is good for couples, solo adventurers...</td>\n",
       "      <td>none</td>\n",
       "      <td>It's a very friendly, family orientated neighb...</td>\n",
       "      <td>...</td>\n",
       "      <td>NaN</td>\n",
       "      <td>f</td>\n",
       "      <td>NaN</td>\n",
       "      <td>NaN</td>\n",
       "      <td>f</td>\n",
       "      <td>flexible</td>\n",
       "      <td>f</td>\n",
       "      <td>f</td>\n",
       "      <td>1</td>\n",
       "      <td>NaN</td>\n",
       "    </tr>\n",
       "    <tr>\n",
       "      <th>4</th>\n",
       "      <td>17430865</td>\n",
       "      <td>https://www.airbnb.com/rooms/17430865</td>\n",
       "      <td>20170304065726</td>\n",
       "      <td>2017-03-05</td>\n",
       "      <td>family-friendly house</td>\n",
       "      <td>very new decorated beautiful room and very com...</td>\n",
       "      <td>NaN</td>\n",
       "      <td>very new decorated beautiful room and very com...</td>\n",
       "      <td>none</td>\n",
       "      <td>NaN</td>\n",
       "      <td>...</td>\n",
       "      <td>NaN</td>\n",
       "      <td>f</td>\n",
       "      <td>NaN</td>\n",
       "      <td>NaN</td>\n",
       "      <td>f</td>\n",
       "      <td>flexible</td>\n",
       "      <td>f</td>\n",
       "      <td>f</td>\n",
       "      <td>1</td>\n",
       "      <td>NaN</td>\n",
       "    </tr>\n",
       "  </tbody>\n",
       "</table>\n",
       "<p>5 rows × 95 columns</p>\n",
       "</div>"
      ],
      "text/plain": [
       "         id                            listing_url       scrape_id  \\\n",
       "0  15896822  https://www.airbnb.com/rooms/15896822  20170304065726   \n",
       "1   4836957   https://www.airbnb.com/rooms/4836957  20170304065726   \n",
       "2  13355982  https://www.airbnb.com/rooms/13355982  20170304065726   \n",
       "3  13472704  https://www.airbnb.com/rooms/13472704  20170304065726   \n",
       "4  17430865  https://www.airbnb.com/rooms/17430865  20170304065726   \n",
       "\n",
       "  last_scraped                                           name  \\\n",
       "0   2017-03-05          Double room in newly refurbished flat   \n",
       "1   2017-03-05            Modern room 25m from Central London   \n",
       "2   2017-03-05  Lovely double bedroom in Kingston Upon Thames   \n",
       "3   2017-03-05  Double Room in North Kingston (Richmond Park)   \n",
       "4   2017-03-05                          family-friendly house   \n",
       "\n",
       "                                             summary  \\\n",
       "0  My place is close to TK Max, John Lewis, Marks...   \n",
       "1  This lovely spacious double bedroom is set in ...   \n",
       "2  Spacious double bedroom, because of the light,...   \n",
       "3  My place is good for couples, solo adventurers...   \n",
       "4  very new decorated beautiful room and very com...   \n",
       "\n",
       "                                               space  \\\n",
       "0                                                NaN   \n",
       "1  ////*** This Price include Parking but not Kit...   \n",
       "2                                                NaN   \n",
       "3  We live in a clean but relaxed & friendly envi...   \n",
       "4                                                NaN   \n",
       "\n",
       "                                         description experiences_offered  \\\n",
       "0  My place is close to TK Max, John Lewis, Marks...                none   \n",
       "1  This lovely spacious double bedroom is set in ...              family   \n",
       "2  Spacious double bedroom, because of the light,...                none   \n",
       "3  My place is good for couples, solo adventurers...                none   \n",
       "4  very new decorated beautiful room and very com...                none   \n",
       "\n",
       "                               neighborhood_overview        ...          \\\n",
       "0                                                NaN        ...           \n",
       "1  Kingston upon Thames is a vibrant Surrey marke...        ...           \n",
       "2                                                NaN        ...           \n",
       "3  It's a very friendly, family orientated neighb...        ...           \n",
       "4                                                NaN        ...           \n",
       "\n",
       "  review_scores_value requires_license license jurisdiction_names  \\\n",
       "0                10.0                f     NaN                NaN   \n",
       "1                10.0                f     NaN                NaN   \n",
       "2                 8.0                f     NaN                NaN   \n",
       "3                 NaN                f     NaN                NaN   \n",
       "4                 NaN                f     NaN                NaN   \n",
       "\n",
       "  instant_bookable cancellation_policy require_guest_profile_picture  \\\n",
       "0                f            flexible                             f   \n",
       "1                f            moderate                             f   \n",
       "2                f            flexible                             f   \n",
       "3                f            flexible                             f   \n",
       "4                f            flexible                             f   \n",
       "\n",
       "  require_guest_phone_verification calculated_host_listings_count  \\\n",
       "0                                f                              1   \n",
       "1                                f                              1   \n",
       "2                                f                              1   \n",
       "3                                f                              1   \n",
       "4                                f                              1   \n",
       "\n",
       "   reviews_per_month  \n",
       "0               0.32  \n",
       "1               0.67  \n",
       "2               0.25  \n",
       "3                NaN  \n",
       "4                NaN  \n",
       "\n",
       "[5 rows x 95 columns]"
      ]
     },
     "execution_count": 34,
     "metadata": {},
     "output_type": "execute_result"
    }
   ],
   "source": [
    "lst.head()"
   ]
  },
  {
   "cell_type": "markdown",
   "metadata": {},
   "source": [
    "## Types of data"
   ]
  },
  {
   "cell_type": "markdown",
   "metadata": {},
   "source": [
    "### Decimal data"
   ]
  },
  {
   "cell_type": "code",
   "execution_count": 35,
   "metadata": {},
   "outputs": [
    {
     "data": {
      "text/plain": [
       "0    100.0\n",
       "1     91.0\n",
       "2     80.0\n",
       "3      NaN\n",
       "4      NaN\n",
       "Name: review_scores_rating, dtype: float64"
      ]
     },
     "execution_count": 35,
     "metadata": {},
     "output_type": "execute_result"
    }
   ],
   "source": [
    "lst['review_scores_rating'].head()"
   ]
  },
  {
   "cell_type": "code",
   "execution_count": 36,
   "metadata": {},
   "outputs": [
    {
     "data": {
      "text/plain": [
       "count    36642.000000\n",
       "mean        91.709350\n",
       "std         10.147051\n",
       "min         20.000000\n",
       "25%         89.000000\n",
       "50%         94.000000\n",
       "75%        100.000000\n",
       "max        100.000000\n",
       "Name: review_scores_rating, dtype: float64"
      ]
     },
     "execution_count": 36,
     "metadata": {},
     "output_type": "execute_result"
    }
   ],
   "source": [
    "lst['review_scores_rating'].describe()"
   ]
  },
  {
   "cell_type": "markdown",
   "metadata": {},
   "source": [
    "To note:\n",
    "\n",
    "- Pulling out a column (`[]` pattern)\n",
    "- Missing values (`NaN`)\n",
    "- Use of `.describe()`"
   ]
  },
  {
   "cell_type": "markdown",
   "metadata": {},
   "source": [
    "### Counts"
   ]
  },
  {
   "cell_type": "code",
   "execution_count": 37,
   "metadata": {},
   "outputs": [
    {
     "data": {
      "text/plain": [
       "0    1.0\n",
       "1    1.0\n",
       "2    1.0\n",
       "3    1.0\n",
       "4    1.0\n",
       "Name: bedrooms, dtype: float64"
      ]
     },
     "execution_count": 37,
     "metadata": {},
     "output_type": "execute_result"
    }
   ],
   "source": [
    "lst['bedrooms'].head()"
   ]
  },
  {
   "cell_type": "markdown",
   "metadata": {},
   "source": [
    "### Binary"
   ]
  },
  {
   "cell_type": "code",
   "execution_count": 38,
   "metadata": {},
   "outputs": [
    {
     "data": {
      "text/plain": [
       "53899    f\n",
       "53900    f\n",
       "53901    f\n",
       "53902    t\n",
       "53903    f\n",
       "Name: instant_bookable, dtype: object"
      ]
     },
     "execution_count": 38,
     "metadata": {},
     "output_type": "execute_result"
    }
   ],
   "source": [
    "lst['instant_bookable'].tail()"
   ]
  },
  {
   "cell_type": "markdown",
   "metadata": {},
   "source": [
    "### Categorical"
   ]
  },
  {
   "cell_type": "code",
   "execution_count": 39,
   "metadata": {},
   "outputs": [
    {
     "data": {
      "text/plain": [
       "0    Apartment\n",
       "1    Apartment\n",
       "2    Apartment\n",
       "3        House\n",
       "4        House\n",
       "Name: property_type, dtype: object"
      ]
     },
     "execution_count": 39,
     "metadata": {},
     "output_type": "execute_result"
    }
   ],
   "source": [
    "lst['property_type'].head()"
   ]
  },
  {
   "cell_type": "code",
   "execution_count": 40,
   "metadata": {},
   "outputs": [
    {
     "data": {
      "text/plain": [
       "array(['Private room', 'Entire home/apt', 'Shared room'], dtype=object)"
      ]
     },
     "execution_count": 40,
     "metadata": {},
     "output_type": "execute_result"
    }
   ],
   "source": [
    "lst['room_type'].unique()"
   ]
  },
  {
   "cell_type": "markdown",
   "metadata": {},
   "source": [
    "### Dates"
   ]
  },
  {
   "cell_type": "code",
   "execution_count": 41,
   "metadata": {},
   "outputs": [],
   "source": [
    "d = pd.to_datetime(lst['last_scraped'])"
   ]
  },
  {
   "cell_type": "code",
   "execution_count": 42,
   "metadata": {},
   "outputs": [
    {
     "data": {
      "text/plain": [
       "0   2017-03-05\n",
       "1   2017-03-05\n",
       "2   2017-03-05\n",
       "3   2017-03-05\n",
       "4   2017-03-05\n",
       "Name: last_scraped, dtype: datetime64[ns]"
      ]
     },
     "execution_count": 42,
     "metadata": {},
     "output_type": "execute_result"
    }
   ],
   "source": [
    "d.head()"
   ]
  },
  {
   "cell_type": "code",
   "execution_count": 43,
   "metadata": {},
   "outputs": [
    {
     "data": {
      "text/plain": [
       "Timestamp('2017-03-05 00:00:00')"
      ]
     },
     "execution_count": 43,
     "metadata": {},
     "output_type": "execute_result"
    }
   ],
   "source": [
    "t = d[0]\n",
    "t"
   ]
  },
  {
   "cell_type": "code",
   "execution_count": 44,
   "metadata": {},
   "outputs": [
    {
     "data": {
      "text/plain": [
       "2017"
      ]
     },
     "execution_count": 44,
     "metadata": {},
     "output_type": "execute_result"
    }
   ],
   "source": [
    "t.year"
   ]
  },
  {
   "cell_type": "markdown",
   "metadata": {},
   "source": [
    "To note:\n",
    "- Use of `pd.to_datetime`\n",
    "- `Timestamp` objects\n",
    "- Tab completion to explore other contents"
   ]
  },
  {
   "cell_type": "markdown",
   "metadata": {},
   "source": [
    "### Spatial"
   ]
  },
  {
   "cell_type": "code",
   "execution_count": 45,
   "metadata": {},
   "outputs": [
    {
     "data": {
      "text/html": [
       "<div>\n",
       "<style scoped>\n",
       "    .dataframe tbody tr th:only-of-type {\n",
       "        vertical-align: middle;\n",
       "    }\n",
       "\n",
       "    .dataframe tbody tr th {\n",
       "        vertical-align: top;\n",
       "    }\n",
       "\n",
       "    .dataframe thead th {\n",
       "        text-align: right;\n",
       "    }\n",
       "</style>\n",
       "<table border=\"1\" class=\"dataframe\">\n",
       "  <thead>\n",
       "    <tr style=\"text-align: right;\">\n",
       "      <th></th>\n",
       "      <th>longitude</th>\n",
       "      <th>latitude</th>\n",
       "    </tr>\n",
       "  </thead>\n",
       "  <tbody>\n",
       "    <tr>\n",
       "      <th>0</th>\n",
       "      <td>-0.306323</td>\n",
       "      <td>51.410036</td>\n",
       "    </tr>\n",
       "    <tr>\n",
       "      <th>1</th>\n",
       "      <td>-0.290704</td>\n",
       "      <td>51.411482</td>\n",
       "    </tr>\n",
       "    <tr>\n",
       "      <th>2</th>\n",
       "      <td>-0.286496</td>\n",
       "      <td>51.415851</td>\n",
       "    </tr>\n",
       "    <tr>\n",
       "      <th>3</th>\n",
       "      <td>-0.292246</td>\n",
       "      <td>51.415723</td>\n",
       "    </tr>\n",
       "    <tr>\n",
       "      <th>4</th>\n",
       "      <td>-0.275426</td>\n",
       "      <td>51.404285</td>\n",
       "    </tr>\n",
       "  </tbody>\n",
       "</table>\n",
       "</div>"
      ],
      "text/plain": [
       "   longitude   latitude\n",
       "0  -0.306323  51.410036\n",
       "1  -0.290704  51.411482\n",
       "2  -0.286496  51.415851\n",
       "3  -0.292246  51.415723\n",
       "4  -0.275426  51.404285"
      ]
     },
     "execution_count": 45,
     "metadata": {},
     "output_type": "execute_result"
    }
   ],
   "source": [
    "lst[['longitude', 'latitude']].head()"
   ]
  },
  {
   "cell_type": "code",
   "execution_count": 46,
   "metadata": {},
   "outputs": [
    {
     "data": {
      "text/plain": [
       "(-0.30632295293010353, 51.41003565850804)"
      ]
     },
     "execution_count": 46,
     "metadata": {},
     "output_type": "execute_result"
    }
   ],
   "source": [
    "from shapely.geometry import Point\n",
    "\n",
    "x, y = lst['longitude'][0], lst['latitude'][0]\n",
    "x, y"
   ]
  },
  {
   "cell_type": "markdown",
   "metadata": {},
   "source": [
    "To note:\n",
    "\n",
    "* Row selectio in `Series` objects\n",
    "* Comma-separated assignment (`x, y`)"
   ]
  },
  {
   "cell_type": "code",
   "execution_count": 47,
   "metadata": {},
   "outputs": [],
   "source": [
    "pt = Point(x, y)\n",
    "#pt"
   ]
  },
  {
   "cell_type": "markdown",
   "metadata": {},
   "source": [
    "To note:\n",
    "\n",
    "* `Point` class\n",
    "* Notebook representation\n",
    "* Attributes (`pt.` tab-completion)"
   ]
  },
  {
   "cell_type": "markdown",
   "metadata": {},
   "source": [
    "### Indices"
   ]
  },
  {
   "cell_type": "code",
   "execution_count": 48,
   "metadata": {},
   "outputs": [
    {
     "data": {
      "text/html": [
       "<div>\n",
       "<style scoped>\n",
       "    .dataframe tbody tr th:only-of-type {\n",
       "        vertical-align: middle;\n",
       "    }\n",
       "\n",
       "    .dataframe tbody tr th {\n",
       "        vertical-align: top;\n",
       "    }\n",
       "\n",
       "    .dataframe thead th {\n",
       "        text-align: right;\n",
       "    }\n",
       "</style>\n",
       "<table border=\"1\" class=\"dataframe\">\n",
       "  <thead>\n",
       "    <tr style=\"text-align: right;\">\n",
       "      <th></th>\n",
       "      <th>id</th>\n",
       "      <th>listing_url</th>\n",
       "      <th>scrape_id</th>\n",
       "      <th>last_scraped</th>\n",
       "      <th>name</th>\n",
       "      <th>summary</th>\n",
       "      <th>space</th>\n",
       "      <th>description</th>\n",
       "      <th>experiences_offered</th>\n",
       "      <th>neighborhood_overview</th>\n",
       "      <th>...</th>\n",
       "      <th>review_scores_value</th>\n",
       "      <th>requires_license</th>\n",
       "      <th>license</th>\n",
       "      <th>jurisdiction_names</th>\n",
       "      <th>instant_bookable</th>\n",
       "      <th>cancellation_policy</th>\n",
       "      <th>require_guest_profile_picture</th>\n",
       "      <th>require_guest_phone_verification</th>\n",
       "      <th>calculated_host_listings_count</th>\n",
       "      <th>reviews_per_month</th>\n",
       "    </tr>\n",
       "  </thead>\n",
       "  <tbody>\n",
       "    <tr>\n",
       "      <th>0</th>\n",
       "      <td>15896822</td>\n",
       "      <td>https://www.airbnb.com/rooms/15896822</td>\n",
       "      <td>20170304065726</td>\n",
       "      <td>2017-03-05</td>\n",
       "      <td>Double room in newly refurbished flat</td>\n",
       "      <td>My place is close to TK Max, John Lewis, Marks...</td>\n",
       "      <td>NaN</td>\n",
       "      <td>My place is close to TK Max, John Lewis, Marks...</td>\n",
       "      <td>none</td>\n",
       "      <td>NaN</td>\n",
       "      <td>...</td>\n",
       "      <td>10.0</td>\n",
       "      <td>f</td>\n",
       "      <td>NaN</td>\n",
       "      <td>NaN</td>\n",
       "      <td>f</td>\n",
       "      <td>flexible</td>\n",
       "      <td>f</td>\n",
       "      <td>f</td>\n",
       "      <td>1</td>\n",
       "      <td>0.32</td>\n",
       "    </tr>\n",
       "    <tr>\n",
       "      <th>1</th>\n",
       "      <td>4836957</td>\n",
       "      <td>https://www.airbnb.com/rooms/4836957</td>\n",
       "      <td>20170304065726</td>\n",
       "      <td>2017-03-05</td>\n",
       "      <td>Modern room 25m from Central London</td>\n",
       "      <td>This lovely spacious double bedroom is set in ...</td>\n",
       "      <td>////*** This Price include Parking but not Kit...</td>\n",
       "      <td>This lovely spacious double bedroom is set in ...</td>\n",
       "      <td>family</td>\n",
       "      <td>Kingston upon Thames is a vibrant Surrey marke...</td>\n",
       "      <td>...</td>\n",
       "      <td>10.0</td>\n",
       "      <td>f</td>\n",
       "      <td>NaN</td>\n",
       "      <td>NaN</td>\n",
       "      <td>f</td>\n",
       "      <td>moderate</td>\n",
       "      <td>f</td>\n",
       "      <td>f</td>\n",
       "      <td>1</td>\n",
       "      <td>0.67</td>\n",
       "    </tr>\n",
       "  </tbody>\n",
       "</table>\n",
       "<p>2 rows × 95 columns</p>\n",
       "</div>"
      ],
      "text/plain": [
       "         id                            listing_url       scrape_id  \\\n",
       "0  15896822  https://www.airbnb.com/rooms/15896822  20170304065726   \n",
       "1   4836957   https://www.airbnb.com/rooms/4836957  20170304065726   \n",
       "\n",
       "  last_scraped                                   name  \\\n",
       "0   2017-03-05  Double room in newly refurbished flat   \n",
       "1   2017-03-05    Modern room 25m from Central London   \n",
       "\n",
       "                                             summary  \\\n",
       "0  My place is close to TK Max, John Lewis, Marks...   \n",
       "1  This lovely spacious double bedroom is set in ...   \n",
       "\n",
       "                                               space  \\\n",
       "0                                                NaN   \n",
       "1  ////*** This Price include Parking but not Kit...   \n",
       "\n",
       "                                         description experiences_offered  \\\n",
       "0  My place is close to TK Max, John Lewis, Marks...                none   \n",
       "1  This lovely spacious double bedroom is set in ...              family   \n",
       "\n",
       "                               neighborhood_overview        ...          \\\n",
       "0                                                NaN        ...           \n",
       "1  Kingston upon Thames is a vibrant Surrey marke...        ...           \n",
       "\n",
       "  review_scores_value requires_license license jurisdiction_names  \\\n",
       "0                10.0                f     NaN                NaN   \n",
       "1                10.0                f     NaN                NaN   \n",
       "\n",
       "  instant_bookable cancellation_policy require_guest_profile_picture  \\\n",
       "0                f            flexible                             f   \n",
       "1                f            moderate                             f   \n",
       "\n",
       "  require_guest_phone_verification calculated_host_listings_count  \\\n",
       "0                                f                              1   \n",
       "1                                f                              1   \n",
       "\n",
       "   reviews_per_month  \n",
       "0               0.32  \n",
       "1               0.67  \n",
       "\n",
       "[2 rows x 95 columns]"
      ]
     },
     "execution_count": 48,
     "metadata": {},
     "output_type": "execute_result"
    }
   ],
   "source": [
    "lst.head(2)"
   ]
  },
  {
   "cell_type": "markdown",
   "metadata": {},
   "source": [
    "To note:\n",
    "\n",
    "* What is an `Index`\n",
    "* Default index"
   ]
  },
  {
   "cell_type": "code",
   "execution_count": 49,
   "metadata": {},
   "outputs": [
    {
     "data": {
      "text/html": [
       "<div>\n",
       "<style scoped>\n",
       "    .dataframe tbody tr th:only-of-type {\n",
       "        vertical-align: middle;\n",
       "    }\n",
       "\n",
       "    .dataframe tbody tr th {\n",
       "        vertical-align: top;\n",
       "    }\n",
       "\n",
       "    .dataframe thead th {\n",
       "        text-align: right;\n",
       "    }\n",
       "</style>\n",
       "<table border=\"1\" class=\"dataframe\">\n",
       "  <thead>\n",
       "    <tr style=\"text-align: right;\">\n",
       "      <th></th>\n",
       "      <th>listing_url</th>\n",
       "      <th>scrape_id</th>\n",
       "      <th>last_scraped</th>\n",
       "      <th>name</th>\n",
       "      <th>summary</th>\n",
       "      <th>space</th>\n",
       "      <th>description</th>\n",
       "      <th>experiences_offered</th>\n",
       "      <th>neighborhood_overview</th>\n",
       "      <th>notes</th>\n",
       "      <th>...</th>\n",
       "      <th>review_scores_value</th>\n",
       "      <th>requires_license</th>\n",
       "      <th>license</th>\n",
       "      <th>jurisdiction_names</th>\n",
       "      <th>instant_bookable</th>\n",
       "      <th>cancellation_policy</th>\n",
       "      <th>require_guest_profile_picture</th>\n",
       "      <th>require_guest_phone_verification</th>\n",
       "      <th>calculated_host_listings_count</th>\n",
       "      <th>reviews_per_month</th>\n",
       "    </tr>\n",
       "    <tr>\n",
       "      <th>id</th>\n",
       "      <th></th>\n",
       "      <th></th>\n",
       "      <th></th>\n",
       "      <th></th>\n",
       "      <th></th>\n",
       "      <th></th>\n",
       "      <th></th>\n",
       "      <th></th>\n",
       "      <th></th>\n",
       "      <th></th>\n",
       "      <th></th>\n",
       "      <th></th>\n",
       "      <th></th>\n",
       "      <th></th>\n",
       "      <th></th>\n",
       "      <th></th>\n",
       "      <th></th>\n",
       "      <th></th>\n",
       "      <th></th>\n",
       "      <th></th>\n",
       "      <th></th>\n",
       "    </tr>\n",
       "  </thead>\n",
       "  <tbody>\n",
       "    <tr>\n",
       "      <th>15896822</th>\n",
       "      <td>https://www.airbnb.com/rooms/15896822</td>\n",
       "      <td>20170304065726</td>\n",
       "      <td>2017-03-05</td>\n",
       "      <td>Double room in newly refurbished flat</td>\n",
       "      <td>My place is close to TK Max, John Lewis, Marks...</td>\n",
       "      <td>NaN</td>\n",
       "      <td>My place is close to TK Max, John Lewis, Marks...</td>\n",
       "      <td>none</td>\n",
       "      <td>NaN</td>\n",
       "      <td>NaN</td>\n",
       "      <td>...</td>\n",
       "      <td>10.0</td>\n",
       "      <td>f</td>\n",
       "      <td>NaN</td>\n",
       "      <td>NaN</td>\n",
       "      <td>f</td>\n",
       "      <td>flexible</td>\n",
       "      <td>f</td>\n",
       "      <td>f</td>\n",
       "      <td>1</td>\n",
       "      <td>0.32</td>\n",
       "    </tr>\n",
       "    <tr>\n",
       "      <th>4836957</th>\n",
       "      <td>https://www.airbnb.com/rooms/4836957</td>\n",
       "      <td>20170304065726</td>\n",
       "      <td>2017-03-05</td>\n",
       "      <td>Modern room 25m from Central London</td>\n",
       "      <td>This lovely spacious double bedroom is set in ...</td>\n",
       "      <td>////*** This Price include Parking but not Kit...</td>\n",
       "      <td>This lovely spacious double bedroom is set in ...</td>\n",
       "      <td>family</td>\n",
       "      <td>Kingston upon Thames is a vibrant Surrey marke...</td>\n",
       "      <td>Guests can in advance ask for any help they mi...</td>\n",
       "      <td>...</td>\n",
       "      <td>10.0</td>\n",
       "      <td>f</td>\n",
       "      <td>NaN</td>\n",
       "      <td>NaN</td>\n",
       "      <td>f</td>\n",
       "      <td>moderate</td>\n",
       "      <td>f</td>\n",
       "      <td>f</td>\n",
       "      <td>1</td>\n",
       "      <td>0.67</td>\n",
       "    </tr>\n",
       "  </tbody>\n",
       "</table>\n",
       "<p>2 rows × 94 columns</p>\n",
       "</div>"
      ],
      "text/plain": [
       "                                    listing_url       scrape_id last_scraped  \\\n",
       "id                                                                             \n",
       "15896822  https://www.airbnb.com/rooms/15896822  20170304065726   2017-03-05   \n",
       "4836957    https://www.airbnb.com/rooms/4836957  20170304065726   2017-03-05   \n",
       "\n",
       "                                           name  \\\n",
       "id                                                \n",
       "15896822  Double room in newly refurbished flat   \n",
       "4836957     Modern room 25m from Central London   \n",
       "\n",
       "                                                    summary  \\\n",
       "id                                                            \n",
       "15896822  My place is close to TK Max, John Lewis, Marks...   \n",
       "4836957   This lovely spacious double bedroom is set in ...   \n",
       "\n",
       "                                                      space  \\\n",
       "id                                                            \n",
       "15896822                                                NaN   \n",
       "4836957   ////*** This Price include Parking but not Kit...   \n",
       "\n",
       "                                                description  \\\n",
       "id                                                            \n",
       "15896822  My place is close to TK Max, John Lewis, Marks...   \n",
       "4836957   This lovely spacious double bedroom is set in ...   \n",
       "\n",
       "         experiences_offered  \\\n",
       "id                             \n",
       "15896822                none   \n",
       "4836957               family   \n",
       "\n",
       "                                      neighborhood_overview  \\\n",
       "id                                                            \n",
       "15896822                                                NaN   \n",
       "4836957   Kingston upon Thames is a vibrant Surrey marke...   \n",
       "\n",
       "                                                      notes        ...         \\\n",
       "id                                                                 ...          \n",
       "15896822                                                NaN        ...          \n",
       "4836957   Guests can in advance ask for any help they mi...        ...          \n",
       "\n",
       "         review_scores_value requires_license license jurisdiction_names  \\\n",
       "id                                                                         \n",
       "15896822                10.0                f     NaN                NaN   \n",
       "4836957                 10.0                f     NaN                NaN   \n",
       "\n",
       "         instant_bookable cancellation_policy require_guest_profile_picture  \\\n",
       "id                                                                            \n",
       "15896822                f            flexible                             f   \n",
       "4836957                 f            moderate                             f   \n",
       "\n",
       "         require_guest_phone_verification  calculated_host_listings_count  \\\n",
       "id                                                                          \n",
       "15896822                                f                               1   \n",
       "4836957                                 f                               1   \n",
       "\n",
       "         reviews_per_month  \n",
       "id                          \n",
       "15896822              0.32  \n",
       "4836957               0.67  \n",
       "\n",
       "[2 rows x 94 columns]"
      ]
     },
     "execution_count": 49,
     "metadata": {},
     "output_type": "execute_result"
    }
   ],
   "source": [
    "lst.set_index('id').head(2)"
   ]
  },
  {
   "cell_type": "markdown",
   "metadata": {},
   "source": [
    "A few more things to note about `DataFrame` objects:\n",
    "\n",
    "- Two dimensional \"labelled\" arrays\n",
    "- Mixed classes\n",
    "- `NaN` native support\n",
    "- In-memory database (indices provide fast query and manipulation)"
   ]
  },
  {
   "cell_type": "markdown",
   "metadata": {},
   "source": [
    "---\n",
    "\n",
    "[Break]\n",
    "\n",
    "---\n",
    "\n",
    "## Wrangling patterns\n"
   ]
  },
  {
   "cell_type": "markdown",
   "metadata": {},
   "source": [
    "### Index-based queries"
   ]
  },
  {
   "cell_type": "code",
   "execution_count": 50,
   "metadata": {},
   "outputs": [
    {
     "data": {
      "text/plain": [
       "0    10.0\n",
       "1     9.0\n",
       "2    10.0\n",
       "3     NaN\n",
       "4     NaN\n",
       "Name: review_scores_location, dtype: float64"
      ]
     },
     "execution_count": 50,
     "metadata": {},
     "output_type": "execute_result"
    }
   ],
   "source": [
    "lst['review_scores_location'].head()"
   ]
  },
  {
   "cell_type": "code",
   "execution_count": 51,
   "metadata": {},
   "outputs": [
    {
     "data": {
      "text/plain": [
       "0    10.0\n",
       "1     9.0\n",
       "2    10.0\n",
       "3     NaN\n",
       "4     NaN\n",
       "Name: review_scores_location, dtype: float64"
      ]
     },
     "execution_count": 51,
     "metadata": {},
     "output_type": "execute_result"
    }
   ],
   "source": [
    "lst.loc[:, 'review_scores_location'].head()"
   ]
  },
  {
   "cell_type": "markdown",
   "metadata": {},
   "source": [
    "To note:\n",
    "\n",
    "* `loc[dim1, dim2]` operator\n",
    "* Use of `:` wildcard"
   ]
  },
  {
   "cell_type": "code",
   "execution_count": 52,
   "metadata": {},
   "outputs": [
    {
     "data": {
      "text/html": [
       "<div>\n",
       "<style scoped>\n",
       "    .dataframe tbody tr th:only-of-type {\n",
       "        vertical-align: middle;\n",
       "    }\n",
       "\n",
       "    .dataframe tbody tr th {\n",
       "        vertical-align: top;\n",
       "    }\n",
       "\n",
       "    .dataframe thead th {\n",
       "        text-align: right;\n",
       "    }\n",
       "</style>\n",
       "<table border=\"1\" class=\"dataframe\">\n",
       "  <thead>\n",
       "    <tr style=\"text-align: right;\">\n",
       "      <th></th>\n",
       "      <th>review_scores_location</th>\n",
       "      <th>review_scores_accuracy</th>\n",
       "    </tr>\n",
       "  </thead>\n",
       "  <tbody>\n",
       "    <tr>\n",
       "      <th>0</th>\n",
       "      <td>10.0</td>\n",
       "      <td>10.0</td>\n",
       "    </tr>\n",
       "    <tr>\n",
       "      <th>1</th>\n",
       "      <td>9.0</td>\n",
       "      <td>9.0</td>\n",
       "    </tr>\n",
       "    <tr>\n",
       "      <th>2</th>\n",
       "      <td>10.0</td>\n",
       "      <td>10.0</td>\n",
       "    </tr>\n",
       "    <tr>\n",
       "      <th>3</th>\n",
       "      <td>NaN</td>\n",
       "      <td>NaN</td>\n",
       "    </tr>\n",
       "    <tr>\n",
       "      <th>4</th>\n",
       "      <td>NaN</td>\n",
       "      <td>NaN</td>\n",
       "    </tr>\n",
       "    <tr>\n",
       "      <th>5</th>\n",
       "      <td>9.0</td>\n",
       "      <td>10.0</td>\n",
       "    </tr>\n",
       "  </tbody>\n",
       "</table>\n",
       "</div>"
      ],
      "text/plain": [
       "   review_scores_location  review_scores_accuracy\n",
       "0                    10.0                    10.0\n",
       "1                     9.0                     9.0\n",
       "2                    10.0                    10.0\n",
       "3                     NaN                     NaN\n",
       "4                     NaN                     NaN\n",
       "5                     9.0                    10.0"
      ]
     },
     "execution_count": 52,
     "metadata": {},
     "output_type": "execute_result"
    }
   ],
   "source": [
    "lst.loc[0:5, ['review_scores_location', \\\n",
    "               'review_scores_accuracy']]"
   ]
  },
  {
   "cell_type": "markdown",
   "metadata": {},
   "source": [
    "To note:\n",
    "\n",
    "* Delimitted range (`0:5`) + zero-offset and order in Python\n",
    "* List of elements (`['review_scores_location', 'review_scores_accuracy']`)\n",
    "* Use of line break (`\\`)"
   ]
  },
  {
   "cell_type": "code",
   "execution_count": 53,
   "metadata": {
    "scrolled": true
   },
   "outputs": [
    {
     "ename": "KeyError",
     "evalue": "0",
     "output_type": "error",
     "traceback": [
      "\u001b[1;31m---------------------------------------------------------------------------\u001b[0m",
      "\u001b[1;31mValueError\u001b[0m                                Traceback (most recent call last)",
      "\u001b[1;32m~\\Anaconda3\\envs\\gds\\lib\\site-packages\\pandas\\core\\indexes\\base.py\u001b[0m in \u001b[0;36mget_slice_bound\u001b[1;34m(self, label, side, kind)\u001b[0m\n\u001b[0;32m   3590\u001b[0m             \u001b[1;32mtry\u001b[0m\u001b[1;33m:\u001b[0m\u001b[1;33m\u001b[0m\u001b[0m\n\u001b[1;32m-> 3591\u001b[1;33m                 \u001b[1;32mreturn\u001b[0m \u001b[0mself\u001b[0m\u001b[1;33m.\u001b[0m\u001b[0m_searchsorted_monotonic\u001b[0m\u001b[1;33m(\u001b[0m\u001b[0mlabel\u001b[0m\u001b[1;33m,\u001b[0m \u001b[0mside\u001b[0m\u001b[1;33m)\u001b[0m\u001b[1;33m\u001b[0m\u001b[0m\n\u001b[0m\u001b[0;32m   3592\u001b[0m             \u001b[1;32mexcept\u001b[0m \u001b[0mValueError\u001b[0m\u001b[1;33m:\u001b[0m\u001b[1;33m\u001b[0m\u001b[0m\n",
      "\u001b[1;32m~\\Anaconda3\\envs\\gds\\lib\\site-packages\\pandas\\core\\indexes\\base.py\u001b[0m in \u001b[0;36m_searchsorted_monotonic\u001b[1;34m(self, label, side)\u001b[0m\n\u001b[0;32m   3549\u001b[0m \u001b[1;33m\u001b[0m\u001b[0m\n\u001b[1;32m-> 3550\u001b[1;33m         \u001b[1;32mraise\u001b[0m \u001b[0mValueError\u001b[0m\u001b[1;33m(\u001b[0m\u001b[1;34m'index must be monotonic increasing or decreasing'\u001b[0m\u001b[1;33m)\u001b[0m\u001b[1;33m\u001b[0m\u001b[0m\n\u001b[0m\u001b[0;32m   3551\u001b[0m \u001b[1;33m\u001b[0m\u001b[0m\n",
      "\u001b[1;31mValueError\u001b[0m: index must be monotonic increasing or decreasing",
      "\nDuring handling of the above exception, another exception occurred:\n",
      "\u001b[1;31mKeyError\u001b[0m                                  Traceback (most recent call last)",
      "\u001b[1;32m<ipython-input-53-ae7d9a1b5eab>\u001b[0m in \u001b[0;36m<module>\u001b[1;34m()\u001b[0m\n\u001b[1;32m----> 1\u001b[1;33m \u001b[0mlst\u001b[0m\u001b[1;33m.\u001b[0m\u001b[0mset_index\u001b[0m\u001b[1;33m(\u001b[0m\u001b[1;34m'id'\u001b[0m\u001b[1;33m)\u001b[0m\u001b[1;33m.\u001b[0m\u001b[0mloc\u001b[0m\u001b[1;33m[\u001b[0m\u001b[1;36m0\u001b[0m\u001b[1;33m:\u001b[0m\u001b[1;36m5\u001b[0m\u001b[1;33m,\u001b[0m \u001b[1;33m:\u001b[0m\u001b[1;33m]\u001b[0m\u001b[1;33m\u001b[0m\u001b[0m\n\u001b[0m",
      "\u001b[1;32m~\\Anaconda3\\envs\\gds\\lib\\site-packages\\pandas\\core\\indexing.py\u001b[0m in \u001b[0;36m__getitem__\u001b[1;34m(self, key)\u001b[0m\n\u001b[0;32m   1365\u001b[0m             \u001b[1;32mexcept\u001b[0m \u001b[1;33m(\u001b[0m\u001b[0mKeyError\u001b[0m\u001b[1;33m,\u001b[0m \u001b[0mIndexError\u001b[0m\u001b[1;33m)\u001b[0m\u001b[1;33m:\u001b[0m\u001b[1;33m\u001b[0m\u001b[0m\n\u001b[0;32m   1366\u001b[0m                 \u001b[1;32mpass\u001b[0m\u001b[1;33m\u001b[0m\u001b[0m\n\u001b[1;32m-> 1367\u001b[1;33m             \u001b[1;32mreturn\u001b[0m \u001b[0mself\u001b[0m\u001b[1;33m.\u001b[0m\u001b[0m_getitem_tuple\u001b[0m\u001b[1;33m(\u001b[0m\u001b[0mkey\u001b[0m\u001b[1;33m)\u001b[0m\u001b[1;33m\u001b[0m\u001b[0m\n\u001b[0m\u001b[0;32m   1368\u001b[0m         \u001b[1;32melse\u001b[0m\u001b[1;33m:\u001b[0m\u001b[1;33m\u001b[0m\u001b[0m\n\u001b[0;32m   1369\u001b[0m             \u001b[1;31m# we by definition only have the 0th axis\u001b[0m\u001b[1;33m\u001b[0m\u001b[1;33m\u001b[0m\u001b[0m\n",
      "\u001b[1;32m~\\Anaconda3\\envs\\gds\\lib\\site-packages\\pandas\\core\\indexing.py\u001b[0m in \u001b[0;36m_getitem_tuple\u001b[1;34m(self, tup)\u001b[0m\n\u001b[0;32m    876\u001b[0m                 \u001b[1;32mcontinue\u001b[0m\u001b[1;33m\u001b[0m\u001b[0m\n\u001b[0;32m    877\u001b[0m \u001b[1;33m\u001b[0m\u001b[0m\n\u001b[1;32m--> 878\u001b[1;33m             \u001b[0mretval\u001b[0m \u001b[1;33m=\u001b[0m \u001b[0mgetattr\u001b[0m\u001b[1;33m(\u001b[0m\u001b[0mretval\u001b[0m\u001b[1;33m,\u001b[0m \u001b[0mself\u001b[0m\u001b[1;33m.\u001b[0m\u001b[0mname\u001b[0m\u001b[1;33m)\u001b[0m\u001b[1;33m.\u001b[0m\u001b[0m_getitem_axis\u001b[0m\u001b[1;33m(\u001b[0m\u001b[0mkey\u001b[0m\u001b[1;33m,\u001b[0m \u001b[0maxis\u001b[0m\u001b[1;33m=\u001b[0m\u001b[0mi\u001b[0m\u001b[1;33m)\u001b[0m\u001b[1;33m\u001b[0m\u001b[0m\n\u001b[0m\u001b[0;32m    879\u001b[0m \u001b[1;33m\u001b[0m\u001b[0m\n\u001b[0;32m    880\u001b[0m         \u001b[1;32mreturn\u001b[0m \u001b[0mretval\u001b[0m\u001b[1;33m\u001b[0m\u001b[0m\n",
      "\u001b[1;32m~\\Anaconda3\\envs\\gds\\lib\\site-packages\\pandas\\core\\indexing.py\u001b[0m in \u001b[0;36m_getitem_axis\u001b[1;34m(self, key, axis)\u001b[0m\n\u001b[0;32m   1579\u001b[0m         \u001b[1;32mif\u001b[0m \u001b[0misinstance\u001b[0m\u001b[1;33m(\u001b[0m\u001b[0mkey\u001b[0m\u001b[1;33m,\u001b[0m \u001b[0mslice\u001b[0m\u001b[1;33m)\u001b[0m\u001b[1;33m:\u001b[0m\u001b[1;33m\u001b[0m\u001b[0m\n\u001b[0;32m   1580\u001b[0m             \u001b[0mself\u001b[0m\u001b[1;33m.\u001b[0m\u001b[0m_has_valid_type\u001b[0m\u001b[1;33m(\u001b[0m\u001b[0mkey\u001b[0m\u001b[1;33m,\u001b[0m \u001b[0maxis\u001b[0m\u001b[1;33m)\u001b[0m\u001b[1;33m\u001b[0m\u001b[0m\n\u001b[1;32m-> 1581\u001b[1;33m             \u001b[1;32mreturn\u001b[0m \u001b[0mself\u001b[0m\u001b[1;33m.\u001b[0m\u001b[0m_get_slice_axis\u001b[0m\u001b[1;33m(\u001b[0m\u001b[0mkey\u001b[0m\u001b[1;33m,\u001b[0m \u001b[0maxis\u001b[0m\u001b[1;33m=\u001b[0m\u001b[0maxis\u001b[0m\u001b[1;33m)\u001b[0m\u001b[1;33m\u001b[0m\u001b[0m\n\u001b[0m\u001b[0;32m   1582\u001b[0m         \u001b[1;32melif\u001b[0m \u001b[0mis_bool_indexer\u001b[0m\u001b[1;33m(\u001b[0m\u001b[0mkey\u001b[0m\u001b[1;33m)\u001b[0m\u001b[1;33m:\u001b[0m\u001b[1;33m\u001b[0m\u001b[0m\n\u001b[0;32m   1583\u001b[0m             \u001b[1;32mreturn\u001b[0m \u001b[0mself\u001b[0m\u001b[1;33m.\u001b[0m\u001b[0m_getbool_axis\u001b[0m\u001b[1;33m(\u001b[0m\u001b[0mkey\u001b[0m\u001b[1;33m,\u001b[0m \u001b[0maxis\u001b[0m\u001b[1;33m=\u001b[0m\u001b[0maxis\u001b[0m\u001b[1;33m)\u001b[0m\u001b[1;33m\u001b[0m\u001b[0m\n",
      "\u001b[1;32m~\\Anaconda3\\envs\\gds\\lib\\site-packages\\pandas\\core\\indexing.py\u001b[0m in \u001b[0;36m_get_slice_axis\u001b[1;34m(self, slice_obj, axis)\u001b[0m\n\u001b[0;32m   1404\u001b[0m         \u001b[0mlabels\u001b[0m \u001b[1;33m=\u001b[0m \u001b[0mobj\u001b[0m\u001b[1;33m.\u001b[0m\u001b[0m_get_axis\u001b[0m\u001b[1;33m(\u001b[0m\u001b[0maxis\u001b[0m\u001b[1;33m)\u001b[0m\u001b[1;33m\u001b[0m\u001b[0m\n\u001b[0;32m   1405\u001b[0m         indexer = labels.slice_indexer(slice_obj.start, slice_obj.stop,\n\u001b[1;32m-> 1406\u001b[1;33m                                        slice_obj.step, kind=self.name)\n\u001b[0m\u001b[0;32m   1407\u001b[0m \u001b[1;33m\u001b[0m\u001b[0m\n\u001b[0;32m   1408\u001b[0m         \u001b[1;32mif\u001b[0m \u001b[0misinstance\u001b[0m\u001b[1;33m(\u001b[0m\u001b[0mindexer\u001b[0m\u001b[1;33m,\u001b[0m \u001b[0mslice\u001b[0m\u001b[1;33m)\u001b[0m\u001b[1;33m:\u001b[0m\u001b[1;33m\u001b[0m\u001b[0m\n",
      "\u001b[1;32m~\\Anaconda3\\envs\\gds\\lib\\site-packages\\pandas\\core\\indexes\\base.py\u001b[0m in \u001b[0;36mslice_indexer\u001b[1;34m(self, start, end, step, kind)\u001b[0m\n\u001b[0;32m   3455\u001b[0m         \"\"\"\n\u001b[0;32m   3456\u001b[0m         start_slice, end_slice = self.slice_locs(start, end, step=step,\n\u001b[1;32m-> 3457\u001b[1;33m                                                  kind=kind)\n\u001b[0m\u001b[0;32m   3458\u001b[0m \u001b[1;33m\u001b[0m\u001b[0m\n\u001b[0;32m   3459\u001b[0m         \u001b[1;31m# return a slice\u001b[0m\u001b[1;33m\u001b[0m\u001b[1;33m\u001b[0m\u001b[0m\n",
      "\u001b[1;32m~\\Anaconda3\\envs\\gds\\lib\\site-packages\\pandas\\core\\indexes\\base.py\u001b[0m in \u001b[0;36mslice_locs\u001b[1;34m(self, start, end, step, kind)\u001b[0m\n\u001b[0;32m   3656\u001b[0m         \u001b[0mstart_slice\u001b[0m \u001b[1;33m=\u001b[0m \u001b[1;32mNone\u001b[0m\u001b[1;33m\u001b[0m\u001b[0m\n\u001b[0;32m   3657\u001b[0m         \u001b[1;32mif\u001b[0m \u001b[0mstart\u001b[0m \u001b[1;32mis\u001b[0m \u001b[1;32mnot\u001b[0m \u001b[1;32mNone\u001b[0m\u001b[1;33m:\u001b[0m\u001b[1;33m\u001b[0m\u001b[0m\n\u001b[1;32m-> 3658\u001b[1;33m             \u001b[0mstart_slice\u001b[0m \u001b[1;33m=\u001b[0m \u001b[0mself\u001b[0m\u001b[1;33m.\u001b[0m\u001b[0mget_slice_bound\u001b[0m\u001b[1;33m(\u001b[0m\u001b[0mstart\u001b[0m\u001b[1;33m,\u001b[0m \u001b[1;34m'left'\u001b[0m\u001b[1;33m,\u001b[0m \u001b[0mkind\u001b[0m\u001b[1;33m)\u001b[0m\u001b[1;33m\u001b[0m\u001b[0m\n\u001b[0m\u001b[0;32m   3659\u001b[0m         \u001b[1;32mif\u001b[0m \u001b[0mstart_slice\u001b[0m \u001b[1;32mis\u001b[0m \u001b[1;32mNone\u001b[0m\u001b[1;33m:\u001b[0m\u001b[1;33m\u001b[0m\u001b[0m\n\u001b[0;32m   3660\u001b[0m             \u001b[0mstart_slice\u001b[0m \u001b[1;33m=\u001b[0m \u001b[1;36m0\u001b[0m\u001b[1;33m\u001b[0m\u001b[0m\n",
      "\u001b[1;32m~\\Anaconda3\\envs\\gds\\lib\\site-packages\\pandas\\core\\indexes\\base.py\u001b[0m in \u001b[0;36mget_slice_bound\u001b[1;34m(self, label, side, kind)\u001b[0m\n\u001b[0;32m   3592\u001b[0m             \u001b[1;32mexcept\u001b[0m \u001b[0mValueError\u001b[0m\u001b[1;33m:\u001b[0m\u001b[1;33m\u001b[0m\u001b[0m\n\u001b[0;32m   3593\u001b[0m                 \u001b[1;31m# raise the original KeyError\u001b[0m\u001b[1;33m\u001b[0m\u001b[1;33m\u001b[0m\u001b[0m\n\u001b[1;32m-> 3594\u001b[1;33m                 \u001b[1;32mraise\u001b[0m \u001b[0merr\u001b[0m\u001b[1;33m\u001b[0m\u001b[0m\n\u001b[0m\u001b[0;32m   3595\u001b[0m \u001b[1;33m\u001b[0m\u001b[0m\n\u001b[0;32m   3596\u001b[0m         \u001b[1;32mif\u001b[0m \u001b[0misinstance\u001b[0m\u001b[1;33m(\u001b[0m\u001b[0mslc\u001b[0m\u001b[1;33m,\u001b[0m \u001b[0mnp\u001b[0m\u001b[1;33m.\u001b[0m\u001b[0mndarray\u001b[0m\u001b[1;33m)\u001b[0m\u001b[1;33m:\u001b[0m\u001b[1;33m\u001b[0m\u001b[0m\n",
      "\u001b[1;32m~\\Anaconda3\\envs\\gds\\lib\\site-packages\\pandas\\core\\indexes\\base.py\u001b[0m in \u001b[0;36mget_slice_bound\u001b[1;34m(self, label, side, kind)\u001b[0m\n\u001b[0;32m   3586\u001b[0m         \u001b[1;31m# we need to look up the label\u001b[0m\u001b[1;33m\u001b[0m\u001b[1;33m\u001b[0m\u001b[0m\n\u001b[0;32m   3587\u001b[0m         \u001b[1;32mtry\u001b[0m\u001b[1;33m:\u001b[0m\u001b[1;33m\u001b[0m\u001b[0m\n\u001b[1;32m-> 3588\u001b[1;33m             \u001b[0mslc\u001b[0m \u001b[1;33m=\u001b[0m \u001b[0mself\u001b[0m\u001b[1;33m.\u001b[0m\u001b[0m_get_loc_only_exact_matches\u001b[0m\u001b[1;33m(\u001b[0m\u001b[0mlabel\u001b[0m\u001b[1;33m)\u001b[0m\u001b[1;33m\u001b[0m\u001b[0m\n\u001b[0m\u001b[0;32m   3589\u001b[0m         \u001b[1;32mexcept\u001b[0m \u001b[0mKeyError\u001b[0m \u001b[1;32mas\u001b[0m \u001b[0merr\u001b[0m\u001b[1;33m:\u001b[0m\u001b[1;33m\u001b[0m\u001b[0m\n\u001b[0;32m   3590\u001b[0m             \u001b[1;32mtry\u001b[0m\u001b[1;33m:\u001b[0m\u001b[1;33m\u001b[0m\u001b[0m\n",
      "\u001b[1;32m~\\Anaconda3\\envs\\gds\\lib\\site-packages\\pandas\\core\\indexes\\base.py\u001b[0m in \u001b[0;36m_get_loc_only_exact_matches\u001b[1;34m(self, key)\u001b[0m\n\u001b[0;32m   3555\u001b[0m         \u001b[0mget_slice_bound\u001b[0m\u001b[1;33m.\u001b[0m\u001b[1;33m\u001b[0m\u001b[0m\n\u001b[0;32m   3556\u001b[0m         \"\"\"\n\u001b[1;32m-> 3557\u001b[1;33m         \u001b[1;32mreturn\u001b[0m \u001b[0mself\u001b[0m\u001b[1;33m.\u001b[0m\u001b[0mget_loc\u001b[0m\u001b[1;33m(\u001b[0m\u001b[0mkey\u001b[0m\u001b[1;33m)\u001b[0m\u001b[1;33m\u001b[0m\u001b[0m\n\u001b[0m\u001b[0;32m   3558\u001b[0m \u001b[1;33m\u001b[0m\u001b[0m\n\u001b[0;32m   3559\u001b[0m     \u001b[1;32mdef\u001b[0m \u001b[0mget_slice_bound\u001b[0m\u001b[1;33m(\u001b[0m\u001b[0mself\u001b[0m\u001b[1;33m,\u001b[0m \u001b[0mlabel\u001b[0m\u001b[1;33m,\u001b[0m \u001b[0mside\u001b[0m\u001b[1;33m,\u001b[0m \u001b[0mkind\u001b[0m\u001b[1;33m)\u001b[0m\u001b[1;33m:\u001b[0m\u001b[1;33m\u001b[0m\u001b[0m\n",
      "\u001b[1;32m~\\Anaconda3\\envs\\gds\\lib\\site-packages\\pandas\\core\\indexes\\base.py\u001b[0m in \u001b[0;36mget_loc\u001b[1;34m(self, key, method, tolerance)\u001b[0m\n\u001b[0;32m   2525\u001b[0m                 \u001b[1;32mreturn\u001b[0m \u001b[0mself\u001b[0m\u001b[1;33m.\u001b[0m\u001b[0m_engine\u001b[0m\u001b[1;33m.\u001b[0m\u001b[0mget_loc\u001b[0m\u001b[1;33m(\u001b[0m\u001b[0mkey\u001b[0m\u001b[1;33m)\u001b[0m\u001b[1;33m\u001b[0m\u001b[0m\n\u001b[0;32m   2526\u001b[0m             \u001b[1;32mexcept\u001b[0m \u001b[0mKeyError\u001b[0m\u001b[1;33m:\u001b[0m\u001b[1;33m\u001b[0m\u001b[0m\n\u001b[1;32m-> 2527\u001b[1;33m                 \u001b[1;32mreturn\u001b[0m \u001b[0mself\u001b[0m\u001b[1;33m.\u001b[0m\u001b[0m_engine\u001b[0m\u001b[1;33m.\u001b[0m\u001b[0mget_loc\u001b[0m\u001b[1;33m(\u001b[0m\u001b[0mself\u001b[0m\u001b[1;33m.\u001b[0m\u001b[0m_maybe_cast_indexer\u001b[0m\u001b[1;33m(\u001b[0m\u001b[0mkey\u001b[0m\u001b[1;33m)\u001b[0m\u001b[1;33m)\u001b[0m\u001b[1;33m\u001b[0m\u001b[0m\n\u001b[0m\u001b[0;32m   2528\u001b[0m \u001b[1;33m\u001b[0m\u001b[0m\n\u001b[0;32m   2529\u001b[0m         \u001b[0mindexer\u001b[0m \u001b[1;33m=\u001b[0m \u001b[0mself\u001b[0m\u001b[1;33m.\u001b[0m\u001b[0mget_indexer\u001b[0m\u001b[1;33m(\u001b[0m\u001b[1;33m[\u001b[0m\u001b[0mkey\u001b[0m\u001b[1;33m]\u001b[0m\u001b[1;33m,\u001b[0m \u001b[0mmethod\u001b[0m\u001b[1;33m=\u001b[0m\u001b[0mmethod\u001b[0m\u001b[1;33m,\u001b[0m \u001b[0mtolerance\u001b[0m\u001b[1;33m=\u001b[0m\u001b[0mtolerance\u001b[0m\u001b[1;33m)\u001b[0m\u001b[1;33m\u001b[0m\u001b[0m\n",
      "\u001b[1;32mpandas/_libs/index.pyx\u001b[0m in \u001b[0;36mpandas._libs.index.IndexEngine.get_loc\u001b[1;34m()\u001b[0m\n",
      "\u001b[1;32mpandas/_libs/index.pyx\u001b[0m in \u001b[0;36mpandas._libs.index.IndexEngine.get_loc\u001b[1;34m()\u001b[0m\n",
      "\u001b[1;32mpandas/_libs/hashtable_class_helper.pxi\u001b[0m in \u001b[0;36mpandas._libs.hashtable.Int64HashTable.get_item\u001b[1;34m()\u001b[0m\n",
      "\u001b[1;32mpandas/_libs/hashtable_class_helper.pxi\u001b[0m in \u001b[0;36mpandas._libs.hashtable.Int64HashTable.get_item\u001b[1;34m()\u001b[0m\n",
      "\u001b[1;31mKeyError\u001b[0m: 0"
     ]
    }
   ],
   "source": [
    "lst.set_index('id').loc[0:5, :]"
   ]
  },
  {
   "cell_type": "code",
   "execution_count": 27,
   "metadata": {},
   "outputs": [
    {
     "data": {
      "text/html": [
       "<div>\n",
       "<style scoped>\n",
       "    .dataframe tbody tr th:only-of-type {\n",
       "        vertical-align: middle;\n",
       "    }\n",
       "\n",
       "    .dataframe tbody tr th {\n",
       "        vertical-align: top;\n",
       "    }\n",
       "\n",
       "    .dataframe thead th {\n",
       "        text-align: right;\n",
       "    }\n",
       "</style>\n",
       "<table border=\"1\" class=\"dataframe\">\n",
       "  <thead>\n",
       "    <tr style=\"text-align: right;\">\n",
       "      <th></th>\n",
       "      <th>listing_url</th>\n",
       "      <th>scrape_id</th>\n",
       "      <th>last_scraped</th>\n",
       "      <th>name</th>\n",
       "      <th>summary</th>\n",
       "      <th>space</th>\n",
       "      <th>description</th>\n",
       "      <th>experiences_offered</th>\n",
       "      <th>neighborhood_overview</th>\n",
       "      <th>notes</th>\n",
       "      <th>...</th>\n",
       "      <th>review_scores_value</th>\n",
       "      <th>requires_license</th>\n",
       "      <th>license</th>\n",
       "      <th>jurisdiction_names</th>\n",
       "      <th>instant_bookable</th>\n",
       "      <th>cancellation_policy</th>\n",
       "      <th>require_guest_profile_picture</th>\n",
       "      <th>require_guest_phone_verification</th>\n",
       "      <th>calculated_host_listings_count</th>\n",
       "      <th>reviews_per_month</th>\n",
       "    </tr>\n",
       "    <tr>\n",
       "      <th>id</th>\n",
       "      <th></th>\n",
       "      <th></th>\n",
       "      <th></th>\n",
       "      <th></th>\n",
       "      <th></th>\n",
       "      <th></th>\n",
       "      <th></th>\n",
       "      <th></th>\n",
       "      <th></th>\n",
       "      <th></th>\n",
       "      <th></th>\n",
       "      <th></th>\n",
       "      <th></th>\n",
       "      <th></th>\n",
       "      <th></th>\n",
       "      <th></th>\n",
       "      <th></th>\n",
       "      <th></th>\n",
       "      <th></th>\n",
       "      <th></th>\n",
       "      <th></th>\n",
       "    </tr>\n",
       "  </thead>\n",
       "  <tbody>\n",
       "    <tr>\n",
       "      <th>15896822</th>\n",
       "      <td>https://www.airbnb.com/rooms/15896822</td>\n",
       "      <td>20170304065726</td>\n",
       "      <td>2017-03-05</td>\n",
       "      <td>Double room in newly refurbished flat</td>\n",
       "      <td>My place is close to TK Max, John Lewis, Marks...</td>\n",
       "      <td>NaN</td>\n",
       "      <td>My place is close to TK Max, John Lewis, Marks...</td>\n",
       "      <td>none</td>\n",
       "      <td>NaN</td>\n",
       "      <td>NaN</td>\n",
       "      <td>...</td>\n",
       "      <td>10.0</td>\n",
       "      <td>f</td>\n",
       "      <td>NaN</td>\n",
       "      <td>NaN</td>\n",
       "      <td>f</td>\n",
       "      <td>flexible</td>\n",
       "      <td>f</td>\n",
       "      <td>f</td>\n",
       "      <td>1</td>\n",
       "      <td>0.32</td>\n",
       "    </tr>\n",
       "    <tr>\n",
       "      <th>4836957</th>\n",
       "      <td>https://www.airbnb.com/rooms/4836957</td>\n",
       "      <td>20170304065726</td>\n",
       "      <td>2017-03-05</td>\n",
       "      <td>Modern room 25m from Central London</td>\n",
       "      <td>This lovely spacious double bedroom is set in ...</td>\n",
       "      <td>////*** This Price include Parking but not Kit...</td>\n",
       "      <td>This lovely spacious double bedroom is set in ...</td>\n",
       "      <td>family</td>\n",
       "      <td>Kingston upon Thames is a vibrant Surrey marke...</td>\n",
       "      <td>Guests can in advance ask for any help they mi...</td>\n",
       "      <td>...</td>\n",
       "      <td>10.0</td>\n",
       "      <td>f</td>\n",
       "      <td>NaN</td>\n",
       "      <td>NaN</td>\n",
       "      <td>f</td>\n",
       "      <td>moderate</td>\n",
       "      <td>f</td>\n",
       "      <td>f</td>\n",
       "      <td>1</td>\n",
       "      <td>0.67</td>\n",
       "    </tr>\n",
       "    <tr>\n",
       "      <th>13355982</th>\n",
       "      <td>https://www.airbnb.com/rooms/13355982</td>\n",
       "      <td>20170304065726</td>\n",
       "      <td>2017-03-05</td>\n",
       "      <td>Lovely double bedroom in Kingston Upon Thames</td>\n",
       "      <td>Spacious double bedroom, because of the light,...</td>\n",
       "      <td>NaN</td>\n",
       "      <td>Spacious double bedroom, because of the light,...</td>\n",
       "      <td>none</td>\n",
       "      <td>NaN</td>\n",
       "      <td>NaN</td>\n",
       "      <td>...</td>\n",
       "      <td>8.0</td>\n",
       "      <td>f</td>\n",
       "      <td>NaN</td>\n",
       "      <td>NaN</td>\n",
       "      <td>f</td>\n",
       "      <td>flexible</td>\n",
       "      <td>f</td>\n",
       "      <td>f</td>\n",
       "      <td>1</td>\n",
       "      <td>0.25</td>\n",
       "    </tr>\n",
       "  </tbody>\n",
       "</table>\n",
       "<p>3 rows × 94 columns</p>\n",
       "</div>"
      ],
      "text/plain": [
       "                                    listing_url       scrape_id last_scraped  \\\n",
       "id                                                                             \n",
       "15896822  https://www.airbnb.com/rooms/15896822  20170304065726   2017-03-05   \n",
       "4836957    https://www.airbnb.com/rooms/4836957  20170304065726   2017-03-05   \n",
       "13355982  https://www.airbnb.com/rooms/13355982  20170304065726   2017-03-05   \n",
       "\n",
       "                                                   name  \\\n",
       "id                                                        \n",
       "15896822          Double room in newly refurbished flat   \n",
       "4836957             Modern room 25m from Central London   \n",
       "13355982  Lovely double bedroom in Kingston Upon Thames   \n",
       "\n",
       "                                                    summary  \\\n",
       "id                                                            \n",
       "15896822  My place is close to TK Max, John Lewis, Marks...   \n",
       "4836957   This lovely spacious double bedroom is set in ...   \n",
       "13355982  Spacious double bedroom, because of the light,...   \n",
       "\n",
       "                                                      space  \\\n",
       "id                                                            \n",
       "15896822                                                NaN   \n",
       "4836957   ////*** This Price include Parking but not Kit...   \n",
       "13355982                                                NaN   \n",
       "\n",
       "                                                description  \\\n",
       "id                                                            \n",
       "15896822  My place is close to TK Max, John Lewis, Marks...   \n",
       "4836957   This lovely spacious double bedroom is set in ...   \n",
       "13355982  Spacious double bedroom, because of the light,...   \n",
       "\n",
       "         experiences_offered  \\\n",
       "id                             \n",
       "15896822                none   \n",
       "4836957               family   \n",
       "13355982                none   \n",
       "\n",
       "                                      neighborhood_overview  \\\n",
       "id                                                            \n",
       "15896822                                                NaN   \n",
       "4836957   Kingston upon Thames is a vibrant Surrey marke...   \n",
       "13355982                                                NaN   \n",
       "\n",
       "                                                      notes        ...         \\\n",
       "id                                                                 ...          \n",
       "15896822                                                NaN        ...          \n",
       "4836957   Guests can in advance ask for any help they mi...        ...          \n",
       "13355982                                                NaN        ...          \n",
       "\n",
       "         review_scores_value requires_license license jurisdiction_names  \\\n",
       "id                                                                         \n",
       "15896822                10.0                f     NaN                NaN   \n",
       "4836957                 10.0                f     NaN                NaN   \n",
       "13355982                 8.0                f     NaN                NaN   \n",
       "\n",
       "         instant_bookable cancellation_policy require_guest_profile_picture  \\\n",
       "id                                                                            \n",
       "15896822                f            flexible                             f   \n",
       "4836957                 f            moderate                             f   \n",
       "13355982                f            flexible                             f   \n",
       "\n",
       "         require_guest_phone_verification  calculated_host_listings_count  \\\n",
       "id                                                                          \n",
       "15896822                                f                               1   \n",
       "4836957                                 f                               1   \n",
       "13355982                                f                               1   \n",
       "\n",
       "         reviews_per_month  \n",
       "id                          \n",
       "15896822              0.32  \n",
       "4836957               0.67  \n",
       "13355982              0.25  \n",
       "\n",
       "[3 rows x 94 columns]"
      ]
     },
     "execution_count": 27,
     "metadata": {},
     "output_type": "execute_result"
    }
   ],
   "source": [
    "lst.set_index('id').loc[15896822:13355982, :]"
   ]
  },
  {
   "cell_type": "code",
   "execution_count": null,
   "metadata": {},
   "outputs": [],
   "source": [
    "lst.set_index('id').loc[[15896822, 13355982, 4836957], \n",
    "                        'review_scores_accuracy']"
   ]
  },
  {
   "cell_type": "markdown",
   "metadata": {},
   "source": [
    "To note:\n",
    "\n",
    "* `loc` operates on indices only!\n",
    "* Ranges are allowed\n",
    "* Enforce your own order if you pass a list (useful for columns!)"
   ]
  },
  {
   "cell_type": "code",
   "execution_count": null,
   "metadata": {},
   "outputs": [],
   "source": [
    "lst.set_index('id').iloc[0:5, [9, 10]]"
   ]
  },
  {
   "cell_type": "markdown",
   "metadata": {},
   "source": [
    "To note:\n",
    "\n",
    "* Operator `iloc` is positional, irrespective of indices\n",
    "* Both ranges and lists are allowed"
   ]
  },
  {
   "cell_type": "markdown",
   "metadata": {},
   "source": [
    "### Value-based queries"
   ]
  },
  {
   "cell_type": "code",
   "execution_count": null,
   "metadata": {},
   "outputs": [],
   "source": [
    "lst.loc[lst['bedrooms'] > 1, :].shape"
   ]
  },
  {
   "cell_type": "code",
   "execution_count": null,
   "metadata": {},
   "outputs": [],
   "source": [
    "lst.loc[lst['property_type']=='Tent', :]"
   ]
  },
  {
   "cell_type": "code",
   "execution_count": null,
   "metadata": {},
   "outputs": [],
   "source": [
    "lst.loc[lst['room_type']!='Entire home/apt', \n",
    "        ['property_type', 'room_type']].head()"
   ]
  },
  {
   "cell_type": "code",
   "execution_count": null,
   "metadata": {},
   "outputs": [],
   "source": [
    "lst.loc[(lst['bedrooms'] >= 4) & (lst['bathrooms'] < 2), \n",
    "        'listing_url']"
   ]
  },
  {
   "cell_type": "code",
   "execution_count": null,
   "metadata": {},
   "outputs": [],
   "source": [
    "sub = lst.loc[(lst['reviews_per_month'] > 10) &\n",
    "              (lst['review_scores_rating'] > 80), :]"
   ]
  },
  {
   "cell_type": "markdown",
   "metadata": {},
   "source": [
    "To note:\n",
    "\n",
    "* Subsetting allows for `>`, `<`, `>=`, `<=`, `==`, `!=`, among others\n",
    "* These can be chained and combined with other subsetting seen above\n",
    "* Use of `shape`\n",
    "* Assigning subset tables to new object (`sub`)"
   ]
  },
  {
   "cell_type": "code",
   "execution_count": null,
   "metadata": {},
   "outputs": [],
   "source": [
    "sub['average_score'] = sub['review_scores_rating'] + \\\n",
    "                       sub['review_scores_accuracy'] + \\\n",
    "                       sub['review_scores_cleanliness'] + \\\n",
    "                       sub['review_scores_checkin'] + \\\n",
    "                       sub['review_scores_communication'] + \\\n",
    "                       sub['review_scores_location'] + \\\n",
    "                       sub['review_scores_value']\n",
    "sub['average_score'] = sub['average_score'] / 7\n",
    "sub.average_score.head()"
   ]
  },
  {
   "cell_type": "markdown",
   "metadata": {},
   "source": [
    "To note:\n",
    "\n",
    "* Column creation\n",
    "* Column addition (other operations work too)\n",
    "* Operations with scalars\n",
    "* Access columns with `sub.` (tab-completion'able!) and why for non-interactive work it probably should be avoided\n",
    "* Warnings Vs errors"
   ]
  },
  {
   "cell_type": "markdown",
   "metadata": {},
   "source": [
    "Similar introduction:\n",
    "\n",
    "> [http://darribas.org/gds17/content/labs/lab_01_i.html](http://darribas.org/gds17/content/labs/lab_01_i.html)\n",
    "\n",
    "More stuff on indices:\n",
    "\n",
    "> [http://pandas.pydata.org/pandas-docs/stable/indexing.html](http://pandas.pydata.org/pandas-docs/stable/indexing.html)\n",
    "\n",
    "And for the pros:\n",
    "\n",
    "> [http://pandas.pydata.org/pandas-docs/stable/advanced.html](http://pandas.pydata.org/pandas-docs/stable/advanced.html)"
   ]
  },
  {
   "cell_type": "markdown",
   "metadata": {},
   "source": [
    "**Exercise**\n",
    "\n",
    "Answer the following questions:\n",
    "\n",
    "> 1. How many lighthouses are available?\n",
    "1. Could you rent an igloo with more than 3 bedrooms?\n",
    "1. Is there any house with 6 bedrooms but only one bathroom?\n",
    "1. And viceversa (6 bathrooms and one bedroom)?\n",
    "1. What are the neighborhoods where you could find a house with more than nine bedrooms?  \n",
    "\n",
    "---\n",
    "\n",
    "[Break]\n",
    "\n",
    "---"
   ]
  },
  {
   "cell_type": "markdown",
   "metadata": {},
   "source": [
    "### The `apply` paradigm"
   ]
  },
  {
   "cell_type": "code",
   "execution_count": null,
   "metadata": {},
   "outputs": [],
   "source": [
    "rsv = lst['review_scores_value']\n",
    "\n",
    "rsv.mean()"
   ]
  },
  {
   "cell_type": "code",
   "execution_count": null,
   "metadata": {},
   "outputs": [],
   "source": [
    "np.mean(rsv)"
   ]
  },
  {
   "cell_type": "code",
   "execution_count": null,
   "metadata": {},
   "outputs": [],
   "source": [
    "rsv.std()"
   ]
  },
  {
   "cell_type": "markdown",
   "metadata": {},
   "source": [
    "To note:\n",
    "\n",
    "* Quick assignment to operate on `Series`\n",
    "* Built-in methods\n",
    "* Tab-completion on `rsv` to explore further"
   ]
  },
  {
   "cell_type": "code",
   "execution_count": null,
   "metadata": {},
   "outputs": [],
   "source": [
    "t = lst['last_scraped'].apply(pd.to_datetime)"
   ]
  },
  {
   "cell_type": "code",
   "execution_count": null,
   "metadata": {},
   "outputs": [],
   "source": [
    "lst.loc[0, 'last_scraped']"
   ]
  },
  {
   "cell_type": "code",
   "execution_count": null,
   "metadata": {},
   "outputs": [],
   "source": [
    "t[0]"
   ]
  },
  {
   "cell_type": "markdown",
   "metadata": {},
   "source": [
    "To note:\n",
    "\n",
    "* `apply` on `Series` objects works element-wise"
   ]
  },
  {
   "cell_type": "code",
   "execution_count": null,
   "metadata": {},
   "outputs": [],
   "source": [
    "rs = ['review_scores_rating',\n",
    "      'review_scores_accuracy',\n",
    "      'review_scores_cleanliness',\n",
    "      'review_scores_checkin',\n",
    "      'review_scores_communication',\n",
    "      'review_scores_location',\n",
    "      'review_scores_value']"
   ]
  },
  {
   "cell_type": "code",
   "execution_count": null,
   "metadata": {},
   "outputs": [],
   "source": [
    "lst[rs].mean()"
   ]
  },
  {
   "cell_type": "code",
   "execution_count": null,
   "metadata": {},
   "outputs": [],
   "source": [
    "lst[rs].apply(np.mean)"
   ]
  },
  {
   "cell_type": "code",
   "execution_count": null,
   "metadata": {},
   "outputs": [],
   "source": [
    "aa1 = lst[rs].apply(np.mean, axis=1)\n",
    "aa1.head()"
   ]
  },
  {
   "cell_type": "code",
   "execution_count": null,
   "metadata": {},
   "outputs": [],
   "source": [
    "lst.loc[0:5, ['last_scraped']].apply(pd.to_datetime)"
   ]
  },
  {
   "cell_type": "markdown",
   "metadata": {},
   "source": [
    "To note:\n",
    "\n",
    "* Built-in methods *also* operate on `DataFrame` objects, not only in `Series`\n",
    "* By default, these operate along axis 0, but axis 1 can also be used\n",
    "* The method `apply` works as a framework for non built-in methods. This is *very* flexible!\n",
    "* A one-column `DataFrame` is not the same as a `Series`"
   ]
  },
  {
   "cell_type": "markdown",
   "metadata": {},
   "source": [
    "**Exercise**\n",
    "\n",
    "1. Create a `DataFrame` that displays the average number of bedrooms and bathrooms\n",
    "1. **[Pro]** Use `apply` to convert every pair of lon/lat coordinates into `Point` objects"
   ]
  },
  {
   "cell_type": "code",
   "execution_count": null,
   "metadata": {},
   "outputs": [],
   "source": [
    "clean_price = lambda p: float(p.strip('$')\\\n",
    "                               .replace(',', ''))\n",
    "\n",
    "price = lst['price'].apply(clean_price)\n",
    "\n",
    "price.describe()"
   ]
  },
  {
   "cell_type": "markdown",
   "metadata": {},
   "source": [
    "To note:\n",
    "\n",
    "* `lambda` functions\n",
    "* Floats (and ints and strings)\n",
    "* Use of `strip` and `replace`\n",
    "* Built-in method `describe`"
   ]
  },
  {
   "cell_type": "code",
   "execution_count": null,
   "metadata": {},
   "outputs": [],
   "source": [
    "lst['price_cleansed'] = price"
   ]
  },
  {
   "cell_type": "markdown",
   "metadata": {},
   "source": [
    "### The `groupby` paradigm"
   ]
  },
  {
   "cell_type": "code",
   "execution_count": null,
   "metadata": {},
   "outputs": [],
   "source": [
    "lst['neighbourhood_cleansed'].unique().tolist()"
   ]
  },
  {
   "cell_type": "code",
   "execution_count": null,
   "metadata": {},
   "outputs": [],
   "source": [
    "lst.loc[lst['neighbourhood_cleansed']=='Ealing', \n",
    "        'price_cleansed']\\\n",
    "   .mean()"
   ]
  },
  {
   "cell_type": "code",
   "execution_count": null,
   "metadata": {},
   "outputs": [],
   "source": [
    "lst.loc[lst['neighbourhood_cleansed']=='Tower Hamlets', \n",
    "        'price_cleansed']\\\n",
    "   .mean()"
   ]
  },
  {
   "cell_type": "code",
   "execution_count": null,
   "metadata": {},
   "outputs": [],
   "source": [
    "lst.loc[lst['neighbourhood_cleansed']=='Hackney', \n",
    "        'price_cleansed']\\\n",
    "   .mean()"
   ]
  },
  {
   "cell_type": "markdown",
   "metadata": {},
   "source": [
    "..."
   ]
  },
  {
   "cell_type": "code",
   "execution_count": null,
   "metadata": {},
   "outputs": [],
   "source": [
    "lst.groupby('neighbourhood_cleansed')\\\n",
    "   ['price_cleansed']\\\n",
    "   .mean()"
   ]
  },
  {
   "cell_type": "markdown",
   "metadata": {},
   "source": [
    "To note:\n",
    "\n",
    "* The `groupby` operator \"chunks\" a `DataFrame` based on a given variable (in this case `neighbourhood_cleansed`)\n",
    "* Then we can select one (or more!) columns and use `apply` to execute a given method in each chunk\n",
    "* The output is collected and assembled back into a `Series` (or `DataFrame`, depending on the operation performed)"
   ]
  },
  {
   "cell_type": "code",
   "execution_count": null,
   "metadata": {},
   "outputs": [],
   "source": [
    "lst.groupby(['property_type', 'room_type'])\\\n",
    "   ['price_cleansed']\\\n",
    "   .mean()\\\n",
    "   .unstack()"
   ]
  },
  {
   "cell_type": "markdown",
   "metadata": {},
   "source": [
    "To note:\n",
    "\n",
    "* It is possible to group by more than one column\n",
    "* The result of a `groupby` operation is a `DataFrame` with `MultiIndex`\n",
    "* It is possible to recast the index dimensions so the second row-index becomes the first column-index (similar to table pivots in Excel)"
   ]
  },
  {
   "cell_type": "markdown",
   "metadata": {},
   "source": [
    "**Exercise**\n",
    "\n",
    "1. Create a `DataFrame` that displays the standard deviation of both price and the review scores rating for every neighbourhood\n",
    "1. Obtain the average price by property type and room type\n",
    "1. Generate a `DataFrame` of summary statistics for the price (using `describe`) for every neighbourhood"
   ]
  },
  {
   "cell_type": "markdown",
   "metadata": {},
   "source": [
    "### Joins"
   ]
  },
  {
   "cell_type": "code",
   "execution_count": null,
   "metadata": {},
   "outputs": [],
   "source": [
    "import geopandas as gpd"
   ]
  },
  {
   "cell_type": "code",
   "execution_count": null,
   "metadata": {},
   "outputs": [],
   "source": [
    "neis = gpd.read_file('data/neighbourhoods.geojson')\n",
    "\n",
    "neis.info()"
   ]
  },
  {
   "cell_type": "markdown",
   "metadata": {},
   "source": [
    "To note:\n",
    "\n",
    "* `geopandas` for geospatial data\n",
    "* Geopandas uses a generic `read_file`\n",
    "* There is a `geometry` column that stores geometry information (same as `Point` class above but for polygons in this case)\n",
    "* This table contains the geometries for every neighborhood in the `neighbourhood_cleansed` category"
   ]
  },
  {
   "cell_type": "code",
   "execution_count": null,
   "metadata": {},
   "outputs": [],
   "source": [
    "areas = neis.to_crs(epsg=27700).area / 1e6\n",
    "neis['area'] = areas\n",
    "areas.head()"
   ]
  },
  {
   "cell_type": "markdown",
   "metadata": {},
   "source": [
    "To note:\n",
    "\n",
    "* Reproject into GB national grid so it's expressed in sq. metres and convert into sq. Km\n",
    "* Additional properties of `GeoDataFrames` for explicitly spatial operations (e.g. `area`)"
   ]
  },
  {
   "cell_type": "code",
   "execution_count": null,
   "metadata": {},
   "outputs": [],
   "source": [
    "tojoin = neis.set_index('neighbourhood')[['area']]\n",
    "tojoin.head()"
   ]
  },
  {
   "cell_type": "code",
   "execution_count": null,
   "metadata": {},
   "outputs": [],
   "source": [
    "joined = lst.join(tojoin, on='neighbourhood_cleansed')\n",
    "joined[['id', 'neighbourhood_cleansed', 'area']].info()"
   ]
  },
  {
   "cell_type": "code",
   "execution_count": null,
   "metadata": {},
   "outputs": [],
   "source": [
    "joined = lst.join(tojoin)\n",
    "joined[['id', 'neighbourhood_cleansed', 'area']].info()"
   ]
  },
  {
   "cell_type": "code",
   "execution_count": null,
   "metadata": {},
   "outputs": [],
   "source": [
    "joined = lst.set_index('neighbourhood_cleansed').join(tojoin)\n",
    "joined[['id', 'area']].info()"
   ]
  },
  {
   "cell_type": "markdown",
   "metadata": {},
   "source": [
    "More stuff on joins:\n",
    "\n",
    "> [**`ENTER LINK!!!`**](ph)\n"
   ]
  },
  {
   "cell_type": "markdown",
   "metadata": {},
   "source": [
    "---"
   ]
  },
  {
   "cell_type": "code",
   "execution_count": null,
   "metadata": {},
   "outputs": [],
   "source": [
    "tokeep = rs + ['id', 'last_scraped', 'last_review', \\\n",
    "               'neighbourhood_cleansed', \\\n",
    "               'longitude', 'latitude', \\\n",
    "               'room_type', 'property_type', \\\n",
    "               'bathrooms', 'bedrooms', 'beds', \\\n",
    "               'price_cleansed', 'area']"
   ]
  },
  {
   "cell_type": "code",
   "execution_count": null,
   "metadata": {},
   "outputs": [],
   "source": [
    "joined = lst.join(tojoin, on='neighbourhood_cleansed')\n",
    "joined[tokeep].to_csv('data/analysis_ready.csv.gz',\n",
    "                      index=False,\n",
    "                      compression='gzip')"
   ]
  },
  {
   "cell_type": "markdown",
   "metadata": {},
   "source": [
    "To note:\n",
    "\n",
    "* Keep only relevant variables for subsequent analysis (`tokeep`)\n",
    "* Write to a (compressed) csv\n",
    "* Ignore index when writing as it's a simple range\n",
    "* File size: 52Mb --> 1.6Mb"
   ]
  },
  {
   "cell_type": "markdown",
   "metadata": {},
   "source": [
    "---\n",
    "\n",
    "**Exercise**\n",
    "\n",
    "1. Download the `calendar.csv.gz` file from the same website, which provides a much more fine grained view into the evolution of prices over time for every property\n",
    "1. Parse dates appropriately into a new column named `date_cleansed`\n",
    "1. Create two subtables: one for data captured on March 5th. 2017, and another one for Feb. 28th 2018\n",
    "1. For each of those tables, parse the price by: a) eliminating the `$` sign, b) replacing `,` by nothing (ie. removing `,`), and c) converting the bit of text into a numeric value (ie. a `float`)\n",
    "1. Join these prices to their room and property types, as well as the neighbourhood where they are located, as stored in `lst`\n",
    "1. Calculate the overall average price at both points in time\n",
    "1. Create a table that shows the variation in price by room type and neighbourhood at each point in time"
   ]
  }
 ],
 "metadata": {
  "kernelspec": {
   "display_name": "Python 3",
   "language": "python",
   "name": "python3"
  },
  "language_info": {
   "codemirror_mode": {
    "name": "ipython",
    "version": 3
   },
   "file_extension": ".py",
   "mimetype": "text/x-python",
   "name": "python",
   "nbconvert_exporter": "python",
   "pygments_lexer": "ipython3",
   "version": "3.6.4"
  }
 },
 "nbformat": 4,
 "nbformat_minor": 2
}
