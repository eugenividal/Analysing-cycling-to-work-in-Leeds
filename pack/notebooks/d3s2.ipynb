{
 "cells": [
  {
   "cell_type": "markdown",
   "metadata": {},
   "source": [
    "# Modeling\n"
   ]
  },
  {
   "cell_type": "code",
   "execution_count": 96,
   "metadata": {},
   "outputs": [],
   "source": [
    "%matplotlib inline\n",
    "\n",
    "import pandas as pd\n",
    "import numpy as np\n",
    "import seaborn as sns\n",
    "import matplotlib.pyplot as plt\n",
    "import statsmodels.formula.api as sm\n",
    "from sklearn.preprocessing import scale\n",
    "from sklearn import metrics\n",
    "from sklearn import model_selection\n",
    "from sklearn.ensemble import RandomForestRegressor\n",
    "from sklearn.linear_model import LinearRegression"
   ]
  },
  {
   "cell_type": "code",
   "execution_count": 97,
   "metadata": {},
   "outputs": [],
   "source": [
    "db_all = pd.read_csv('data/analysis_ready.csv.gz')\n",
    "db_all['l_price'] = np.log(db_all['price_cleansed'])"
   ]
  },
  {
   "cell_type": "code",
   "execution_count": 98,
   "metadata": {},
   "outputs": [
    {
     "name": "stdout",
     "output_type": "stream",
     "text": [
      "<class 'pandas.core.frame.DataFrame'>\n",
      "Int64Index: 53509 entries, 0 to 53903\n",
      "Data columns (total 5 columns):\n",
      "l_price      53509 non-null float64\n",
      "bedrooms     53509 non-null float64\n",
      "bathrooms    53509 non-null float64\n",
      "beds         53509 non-null float64\n",
      "room_type    53509 non-null object\n",
      "dtypes: float64(4), object(1)\n",
      "memory usage: 2.4+ MB\n"
     ]
    }
   ],
   "source": [
    "xs = ['l_price', 'bedrooms', 'bathrooms', 'beds', 'room_type']\n",
    "db = db_all[xs].dropna()\n",
    "db.info()"
   ]
  },
  {
   "cell_type": "markdown",
   "metadata": {},
   "source": [
    "## Baseline model\n",
    "\n",
    "$$\n",
    "\\log(P) = \\alpha + X \\beta + \\epsilon\n",
    "$$\n",
    "\n",
    "$X$:\n",
    "\n",
    "- Bathrooms\n",
    "- Bedrooms\n",
    "- Beds\n",
    "- Room type"
   ]
  },
  {
   "cell_type": "code",
   "execution_count": 99,
   "metadata": {},
   "outputs": [
    {
     "data": {
      "text/html": [
       "<table class=\"simpletable\">\n",
       "<caption>OLS Regression Results</caption>\n",
       "<tr>\n",
       "  <th>Dep. Variable:</th>         <td>l_price</td>     <th>  R-squared:         </th> <td>   0.331</td> \n",
       "</tr>\n",
       "<tr>\n",
       "  <th>Model:</th>                   <td>OLS</td>       <th>  Adj. R-squared:    </th> <td>   0.331</td> \n",
       "</tr>\n",
       "<tr>\n",
       "  <th>Method:</th>             <td>Least Squares</td>  <th>  F-statistic:       </th> <td>   8823.</td> \n",
       "</tr>\n",
       "<tr>\n",
       "  <th>Date:</th>             <td>Wed, 28 Mar 2018</td> <th>  Prob (F-statistic):</th>  <td>  0.00</td>  \n",
       "</tr>\n",
       "<tr>\n",
       "  <th>Time:</th>                 <td>15:29:03</td>     <th>  Log-Likelihood:    </th> <td> -46041.</td> \n",
       "</tr>\n",
       "<tr>\n",
       "  <th>No. Observations:</th>      <td> 53509</td>      <th>  AIC:               </th> <td>9.209e+04</td>\n",
       "</tr>\n",
       "<tr>\n",
       "  <th>Df Residuals:</th>          <td> 53505</td>      <th>  BIC:               </th> <td>9.213e+04</td>\n",
       "</tr>\n",
       "<tr>\n",
       "  <th>Df Model:</th>              <td>     3</td>      <th>                     </th>     <td> </td>    \n",
       "</tr>\n",
       "<tr>\n",
       "  <th>Covariance Type:</th>      <td>nonrobust</td>    <th>                     </th>     <td> </td>    \n",
       "</tr>\n",
       "</table>\n",
       "<table class=\"simpletable\">\n",
       "<tr>\n",
       "      <td></td>         <th>coef</th>     <th>std err</th>      <th>t</th>      <th>P>|t|</th>  <th>[0.025</th>    <th>0.975]</th>  \n",
       "</tr>\n",
       "<tr>\n",
       "  <th>Intercept</th> <td>    3.6139</td> <td>    0.006</td> <td>  573.011</td> <td> 0.000</td> <td>    3.602</td> <td>    3.626</td>\n",
       "</tr>\n",
       "<tr>\n",
       "  <th>bedrooms</th>  <td>    0.2914</td> <td>    0.005</td> <td>   63.625</td> <td> 0.000</td> <td>    0.282</td> <td>    0.300</td>\n",
       "</tr>\n",
       "<tr>\n",
       "  <th>bathrooms</th> <td>    0.0255</td> <td>    0.005</td> <td>    4.699</td> <td> 0.000</td> <td>    0.015</td> <td>    0.036</td>\n",
       "</tr>\n",
       "<tr>\n",
       "  <th>beds</th>      <td>    0.1466</td> <td>    0.003</td> <td>   47.363</td> <td> 0.000</td> <td>    0.141</td> <td>    0.153</td>\n",
       "</tr>\n",
       "</table>\n",
       "<table class=\"simpletable\">\n",
       "<tr>\n",
       "  <th>Omnibus:</th>       <td>1229.914</td> <th>  Durbin-Watson:     </th> <td>   1.556</td>\n",
       "</tr>\n",
       "<tr>\n",
       "  <th>Prob(Omnibus):</th>  <td> 0.000</td>  <th>  Jarque-Bera (JB):  </th> <td>2834.743</td>\n",
       "</tr>\n",
       "<tr>\n",
       "  <th>Skew:</th>           <td> 0.040</td>  <th>  Prob(JB):          </th> <td>    0.00</td>\n",
       "</tr>\n",
       "<tr>\n",
       "  <th>Kurtosis:</th>       <td> 4.125</td>  <th>  Cond. No.          </th> <td>    9.24</td>\n",
       "</tr>\n",
       "</table>"
      ],
      "text/plain": [
       "<class 'statsmodels.iolib.summary.Summary'>\n",
       "\"\"\"\n",
       "                            OLS Regression Results                            \n",
       "==============================================================================\n",
       "Dep. Variable:                l_price   R-squared:                       0.331\n",
       "Model:                            OLS   Adj. R-squared:                  0.331\n",
       "Method:                 Least Squares   F-statistic:                     8823.\n",
       "Date:                Wed, 28 Mar 2018   Prob (F-statistic):               0.00\n",
       "Time:                        15:29:03   Log-Likelihood:                -46041.\n",
       "No. Observations:               53509   AIC:                         9.209e+04\n",
       "Df Residuals:                   53505   BIC:                         9.213e+04\n",
       "Df Model:                           3                                         \n",
       "Covariance Type:            nonrobust                                         \n",
       "==============================================================================\n",
       "                 coef    std err          t      P>|t|      [0.025      0.975]\n",
       "------------------------------------------------------------------------------\n",
       "Intercept      3.6139      0.006    573.011      0.000       3.602       3.626\n",
       "bedrooms       0.2914      0.005     63.625      0.000       0.282       0.300\n",
       "bathrooms      0.0255      0.005      4.699      0.000       0.015       0.036\n",
       "beds           0.1466      0.003     47.363      0.000       0.141       0.153\n",
       "==============================================================================\n",
       "Omnibus:                     1229.914   Durbin-Watson:                   1.556\n",
       "Prob(Omnibus):                  0.000   Jarque-Bera (JB):             2834.743\n",
       "Skew:                           0.040   Prob(JB):                         0.00\n",
       "Kurtosis:                       4.125   Cond. No.                         9.24\n",
       "==============================================================================\n",
       "\n",
       "Warnings:\n",
       "[1] Standard Errors assume that the covariance matrix of the errors is correctly specified.\n",
       "\"\"\""
      ]
     },
     "execution_count": 99,
     "metadata": {},
     "output_type": "execute_result"
    }
   ],
   "source": [
    "m1 = sm.ols('l_price ~ bedrooms + bathrooms + beds', db).fit()\n",
    "m1.summary()"
   ]
  },
  {
   "cell_type": "markdown",
   "metadata": {},
   "source": [
    "To note:\n",
    "\n",
    "- Decent $R^2$ (although that's not holy truth)\n",
    "- Every variable significant and related as expected\n",
    "- Interpret coefficients"
   ]
  },
  {
   "cell_type": "code",
   "execution_count": 100,
   "metadata": {},
   "outputs": [
    {
     "data": {
      "text/html": [
       "<table class=\"simpletable\">\n",
       "<caption>OLS Regression Results</caption>\n",
       "<tr>\n",
       "  <th>Dep. Variable:</th>         <td>l_price</td>     <th>  R-squared:         </th> <td>   0.331</td> \n",
       "</tr>\n",
       "<tr>\n",
       "  <th>Model:</th>                   <td>OLS</td>       <th>  Adj. R-squared:    </th> <td>   0.331</td> \n",
       "</tr>\n",
       "<tr>\n",
       "  <th>Method:</th>             <td>Least Squares</td>  <th>  F-statistic:       </th> <td>   8823.</td> \n",
       "</tr>\n",
       "<tr>\n",
       "  <th>Date:</th>             <td>Wed, 28 Mar 2018</td> <th>  Prob (F-statistic):</th>  <td>  0.00</td>  \n",
       "</tr>\n",
       "<tr>\n",
       "  <th>Time:</th>                 <td>15:29:03</td>     <th>  Log-Likelihood:    </th> <td> -46041.</td> \n",
       "</tr>\n",
       "<tr>\n",
       "  <th>No. Observations:</th>      <td> 53509</td>      <th>  AIC:               </th> <td>9.209e+04</td>\n",
       "</tr>\n",
       "<tr>\n",
       "  <th>Df Residuals:</th>          <td> 53505</td>      <th>  BIC:               </th> <td>9.213e+04</td>\n",
       "</tr>\n",
       "<tr>\n",
       "  <th>Df Model:</th>              <td>     3</td>      <th>                     </th>     <td> </td>    \n",
       "</tr>\n",
       "<tr>\n",
       "  <th>Covariance Type:</th>      <td>nonrobust</td>    <th>                     </th>     <td> </td>    \n",
       "</tr>\n",
       "</table>\n",
       "<table class=\"simpletable\">\n",
       "<tr>\n",
       "      <td></td>         <th>coef</th>     <th>std err</th>      <th>t</th>      <th>P>|t|</th>  <th>[0.025</th>    <th>0.975]</th>  \n",
       "</tr>\n",
       "<tr>\n",
       "  <th>Intercept</th> <td>    4.2917</td> <td>    0.002</td> <td> 1735.312</td> <td> 0.000</td> <td>    4.287</td> <td>    4.297</td>\n",
       "</tr>\n",
       "<tr>\n",
       "  <th>bedrooms</th>  <td>    0.2458</td> <td>    0.004</td> <td>   63.625</td> <td> 0.000</td> <td>    0.238</td> <td>    0.253</td>\n",
       "</tr>\n",
       "<tr>\n",
       "  <th>bathrooms</th> <td>    0.0140</td> <td>    0.003</td> <td>    4.699</td> <td> 0.000</td> <td>    0.008</td> <td>    0.020</td>\n",
       "</tr>\n",
       "<tr>\n",
       "  <th>beds</th>      <td>    0.1762</td> <td>    0.004</td> <td>   47.363</td> <td> 0.000</td> <td>    0.169</td> <td>    0.184</td>\n",
       "</tr>\n",
       "</table>\n",
       "<table class=\"simpletable\">\n",
       "<tr>\n",
       "  <th>Omnibus:</th>       <td>1229.914</td> <th>  Durbin-Watson:     </th> <td>   1.556</td>\n",
       "</tr>\n",
       "<tr>\n",
       "  <th>Prob(Omnibus):</th>  <td> 0.000</td>  <th>  Jarque-Bera (JB):  </th> <td>2834.743</td>\n",
       "</tr>\n",
       "<tr>\n",
       "  <th>Skew:</th>           <td> 0.040</td>  <th>  Prob(JB):          </th> <td>    0.00</td>\n",
       "</tr>\n",
       "<tr>\n",
       "  <th>Kurtosis:</th>       <td> 4.125</td>  <th>  Cond. No.          </th> <td>    2.92</td>\n",
       "</tr>\n",
       "</table>"
      ],
      "text/plain": [
       "<class 'statsmodels.iolib.summary.Summary'>\n",
       "\"\"\"\n",
       "                            OLS Regression Results                            \n",
       "==============================================================================\n",
       "Dep. Variable:                l_price   R-squared:                       0.331\n",
       "Model:                            OLS   Adj. R-squared:                  0.331\n",
       "Method:                 Least Squares   F-statistic:                     8823.\n",
       "Date:                Wed, 28 Mar 2018   Prob (F-statistic):               0.00\n",
       "Time:                        15:29:03   Log-Likelihood:                -46041.\n",
       "No. Observations:               53509   AIC:                         9.209e+04\n",
       "Df Residuals:                   53505   BIC:                         9.213e+04\n",
       "Df Model:                           3                                         \n",
       "Covariance Type:            nonrobust                                         \n",
       "==============================================================================\n",
       "                 coef    std err          t      P>|t|      [0.025      0.975]\n",
       "------------------------------------------------------------------------------\n",
       "Intercept      4.2917      0.002   1735.312      0.000       4.287       4.297\n",
       "bedrooms       0.2458      0.004     63.625      0.000       0.238       0.253\n",
       "bathrooms      0.0140      0.003      4.699      0.000       0.008       0.020\n",
       "beds           0.1762      0.004     47.363      0.000       0.169       0.184\n",
       "==============================================================================\n",
       "Omnibus:                     1229.914   Durbin-Watson:                   1.556\n",
       "Prob(Omnibus):                  0.000   Jarque-Bera (JB):             2834.743\n",
       "Skew:                           0.040   Prob(JB):                         0.00\n",
       "Kurtosis:                       4.125   Cond. No.                         2.92\n",
       "==============================================================================\n",
       "\n",
       "Warnings:\n",
       "[1] Standard Errors assume that the covariance matrix of the errors is correctly specified.\n",
       "\"\"\""
      ]
     },
     "execution_count": 100,
     "metadata": {},
     "output_type": "execute_result"
    }
   ],
   "source": [
    "cols = ['bedrooms', 'bathrooms', 'beds']\n",
    "scX = pd.DataFrame(scale(db[cols]),\n",
    "                   index=db.index,\n",
    "                   columns=cols)\n",
    "m2 = sm.ols('l_price ~ bedrooms + bathrooms + beds', \n",
    "            data=scX.join(db['l_price']))\\\n",
    "       .fit()\n",
    "m2.summary()"
   ]
  },
  {
   "cell_type": "markdown",
   "metadata": {},
   "source": [
    "To note:\n",
    "\n",
    "How does interpretation of the coefficients change?\n",
    "* Meaning of intecept when $X$ is demeanded\n",
    "* Units in which $\\beta$ are interpreted"
   ]
  },
  {
   "cell_type": "markdown",
   "metadata": {},
   "source": [
    "## Predictive checking\n",
    "\n",
    "Is the model picking up the overall \"shape of data\"?\n",
    "\n",
    "- Important to know how much we should trust our inferences\n",
    "- Crucial if we want to use the model to predict!"
   ]
  },
  {
   "cell_type": "code",
   "execution_count": 101,
   "metadata": {},
   "outputs": [
    {
     "data": {
      "text/plain": [
       "<matplotlib.axes._subplots.AxesSubplot at 0x27c59842668>"
      ]
     },
     "execution_count": 101,
     "metadata": {},
     "output_type": "execute_result"
    },
    {
     "data": {
      "image/png": "[encoded data removed]",
      "text/plain": [
       "<Figure size 432x288 with 1 Axes>"
      ]
     },
     "metadata": {},
     "output_type": "display_data"
    }
   ],
   "source": [
    "sns.kdeplot(db['l_price'], shade=True)"
   ]
  },
  {
   "cell_type": "code",
   "execution_count": 102,
   "metadata": {},
   "outputs": [
    {
     "data": {
      "text/plain": [
       "<matplotlib.axes._subplots.AxesSubplot at 0x27c567ad240>"
      ]
     },
     "execution_count": 102,
     "metadata": {},
     "output_type": "execute_result"
    },
    {
     "data": {
      "image/png": "[encoded data removed]",
      "text/plain": [
       "<Figure size 432x288 with 1 Axes>"
      ]
     },
     "metadata": {},
     "output_type": "display_data"
    }
   ],
   "source": [
    "sns.kdeplot(m1.fittedvalues, shade=True)"
   ]
  },
  {
   "cell_type": "code",
   "execution_count": 103,
   "metadata": {},
   "outputs": [
    {
     "data": {
      "image/png": "[encoded data removed]",
      "text/plain": [
       "<Figure size 648x432 with 1 Axes>"
      ]
     },
     "metadata": {},
     "output_type": "display_data"
    }
   ],
   "source": [
    "f, ax = plt.subplots(1, figsize=(9, 6))\n",
    "sns.kdeplot(db['l_price'], shade=True, ax=ax, label='$y$')\n",
    "sns.kdeplot(m1.fittedvalues, shade=True, ax=ax, label='$\\hat{y}$')\n",
    "plt.show()"
   ]
  },
  {
   "cell_type": "markdown",
   "metadata": {},
   "source": [
    "To note:\n",
    "\n",
    "- Not a terrible start\n",
    "- How could we improve it?"
   ]
  },
  {
   "cell_type": "code",
   "execution_count": 104,
   "metadata": {},
   "outputs": [
    {
     "data": {
      "text/html": [
       "<table class=\"simpletable\">\n",
       "<caption>OLS Regression Results</caption>\n",
       "<tr>\n",
       "  <th>Dep. Variable:</th>         <td>l_price</td>     <th>  R-squared:         </th> <td>   0.604</td> \n",
       "</tr>\n",
       "<tr>\n",
       "  <th>Model:</th>                   <td>OLS</td>       <th>  Adj. R-squared:    </th> <td>   0.604</td> \n",
       "</tr>\n",
       "<tr>\n",
       "  <th>Method:</th>             <td>Least Squares</td>  <th>  F-statistic:       </th> <td>1.630e+04</td>\n",
       "</tr>\n",
       "<tr>\n",
       "  <th>Date:</th>             <td>Wed, 28 Mar 2018</td> <th>  Prob (F-statistic):</th>  <td>  0.00</td>  \n",
       "</tr>\n",
       "<tr>\n",
       "  <th>Time:</th>                 <td>15:29:05</td>     <th>  Log-Likelihood:    </th> <td> -32031.</td> \n",
       "</tr>\n",
       "<tr>\n",
       "  <th>No. Observations:</th>      <td> 53509</td>      <th>  AIC:               </th> <td>6.407e+04</td>\n",
       "</tr>\n",
       "<tr>\n",
       "  <th>Df Residuals:</th>          <td> 53503</td>      <th>  BIC:               </th> <td>6.413e+04</td>\n",
       "</tr>\n",
       "<tr>\n",
       "  <th>Df Model:</th>              <td>     5</td>      <th>                     </th>     <td> </td>    \n",
       "</tr>\n",
       "<tr>\n",
       "  <th>Covariance Type:</th>      <td>nonrobust</td>    <th>                     </th>     <td> </td>    \n",
       "</tr>\n",
       "</table>\n",
       "<table class=\"simpletable\">\n",
       "<tr>\n",
       "              <td></td>                 <th>coef</th>     <th>std err</th>      <th>t</th>      <th>P>|t|</th>  <th>[0.025</th>    <th>0.975]</th>  \n",
       "</tr>\n",
       "<tr>\n",
       "  <th>Intercept</th>                 <td>    4.2139</td> <td>    0.006</td> <td>  724.314</td> <td> 0.000</td> <td>    4.203</td> <td>    4.225</td>\n",
       "</tr>\n",
       "<tr>\n",
       "  <th>room_type[T.Private room]</th> <td>   -0.7901</td> <td>    0.004</td> <td> -184.073</td> <td> 0.000</td> <td>   -0.799</td> <td>   -0.782</td>\n",
       "</tr>\n",
       "<tr>\n",
       "  <th>room_type[T.Shared room]</th>  <td>   -1.3001</td> <td>    0.017</td> <td>  -76.812</td> <td> 0.000</td> <td>   -1.333</td> <td>   -1.267</td>\n",
       "</tr>\n",
       "<tr>\n",
       "  <th>bedrooms</th>                  <td>    0.1757</td> <td>    0.004</td> <td>   49.030</td> <td> 0.000</td> <td>    0.169</td> <td>    0.183</td>\n",
       "</tr>\n",
       "<tr>\n",
       "  <th>bathrooms</th>                 <td>    0.1211</td> <td>    0.004</td> <td>   28.774</td> <td> 0.000</td> <td>    0.113</td> <td>    0.129</td>\n",
       "</tr>\n",
       "<tr>\n",
       "  <th>beds</th>                      <td>    0.0491</td> <td>    0.002</td> <td>   19.925</td> <td> 0.000</td> <td>    0.044</td> <td>    0.054</td>\n",
       "</tr>\n",
       "</table>\n",
       "<table class=\"simpletable\">\n",
       "<tr>\n",
       "  <th>Omnibus:</th>       <td>7192.898</td> <th>  Durbin-Watson:     </th> <td>   1.671</td> \n",
       "</tr>\n",
       "<tr>\n",
       "  <th>Prob(Omnibus):</th>  <td> 0.000</td>  <th>  Jarque-Bera (JB):  </th> <td>28913.080</td>\n",
       "</tr>\n",
       "<tr>\n",
       "  <th>Skew:</th>           <td> 0.628</td>  <th>  Prob(JB):          </th> <td>    0.00</td> \n",
       "</tr>\n",
       "<tr>\n",
       "  <th>Kurtosis:</th>       <td> 6.375</td>  <th>  Cond. No.          </th> <td>    26.9</td> \n",
       "</tr>\n",
       "</table>"
      ],
      "text/plain": [
       "<class 'statsmodels.iolib.summary.Summary'>\n",
       "\"\"\"\n",
       "                            OLS Regression Results                            \n",
       "==============================================================================\n",
       "Dep. Variable:                l_price   R-squared:                       0.604\n",
       "Model:                            OLS   Adj. R-squared:                  0.604\n",
       "Method:                 Least Squares   F-statistic:                 1.630e+04\n",
       "Date:                Wed, 28 Mar 2018   Prob (F-statistic):               0.00\n",
       "Time:                        15:29:05   Log-Likelihood:                -32031.\n",
       "No. Observations:               53509   AIC:                         6.407e+04\n",
       "Df Residuals:                   53503   BIC:                         6.413e+04\n",
       "Df Model:                           5                                         \n",
       "Covariance Type:            nonrobust                                         \n",
       "=============================================================================================\n",
       "                                coef    std err          t      P>|t|      [0.025      0.975]\n",
       "---------------------------------------------------------------------------------------------\n",
       "Intercept                     4.2139      0.006    724.314      0.000       4.203       4.225\n",
       "room_type[T.Private room]    -0.7901      0.004   -184.073      0.000      -0.799      -0.782\n",
       "room_type[T.Shared room]     -1.3001      0.017    -76.812      0.000      -1.333      -1.267\n",
       "bedrooms                      0.1757      0.004     49.030      0.000       0.169       0.183\n",
       "bathrooms                     0.1211      0.004     28.774      0.000       0.113       0.129\n",
       "beds                          0.0491      0.002     19.925      0.000       0.044       0.054\n",
       "==============================================================================\n",
       "Omnibus:                     7192.898   Durbin-Watson:                   1.671\n",
       "Prob(Omnibus):                  0.000   Jarque-Bera (JB):            28913.080\n",
       "Skew:                           0.628   Prob(JB):                         0.00\n",
       "Kurtosis:                       6.375   Cond. No.                         26.9\n",
       "==============================================================================\n",
       "\n",
       "Warnings:\n",
       "[1] Standard Errors assume that the covariance matrix of the errors is correctly specified.\n",
       "\"\"\""
      ]
     },
     "execution_count": 104,
     "metadata": {},
     "output_type": "execute_result"
    }
   ],
   "source": [
    "m3 = sm.ols('l_price ~ bedrooms + bathrooms + beds + room_type', db).fit()\n",
    "m3.summary()"
   ]
  },
  {
   "cell_type": "code",
   "execution_count": 105,
   "metadata": {},
   "outputs": [
    {
     "data": {
      "image/png": "[encoded data removed]",
      "text/plain": [
       "<Figure size 648x432 with 1 Axes>"
      ]
     },
     "metadata": {},
     "output_type": "display_data"
    }
   ],
   "source": [
    "f, ax = plt.subplots(1, figsize=(9, 6))\n",
    "sns.kdeplot(db['l_price'], shade=True, ax=ax, label='$y$')\n",
    "sns.kdeplot(m1.fittedvalues, shade=True, ax=ax, label='$\\hat{y}_1$')\n",
    "sns.kdeplot(m3.fittedvalues, shade=True, ax=ax, label='$\\hat{y}_2$')\n",
    "plt.show()"
   ]
  },
  {
   "cell_type": "markdown",
   "metadata": {},
   "source": [
    "To note:\n",
    "\n",
    "- This is better!\n",
    "- But these are only point predictions. Sometimes that's good enough.\n",
    "- Usually however, we want a model to capture the underlying process instead of the particular realisation observed (ie. dataset).\n",
    "- Then we need to think about the uncertainty embedded in the model we are estimating"
   ]
  },
  {
   "cell_type": "markdown",
   "metadata": {},
   "source": [
    "## Inferential Vs Predictive uncertainty\n",
    "\n",
    "[See more in Chapter 7.2 of [Gelman & Hill 2006](http://www.stat.columbia.edu/~gelman/arm/)]\n",
    "\n",
    "- Two types of uncertainty in our model\n",
    "    + Predictive ($\\epsilon$)\n",
    "    + Inferential ($\\beta$)\n",
    "- Both affect the final predictions we make\n",
    "\n",
    "![](../figs/d3s2_example.png)"
   ]
  },
  {
   "cell_type": "code",
   "execution_count": 106,
   "metadata": {},
   "outputs": [
    {
     "data": {
      "text/html": [
       "<div>\n",
       "<style scoped>\n",
       "    .dataframe tbody tr th:only-of-type {\n",
       "        vertical-align: middle;\n",
       "    }\n",
       "\n",
       "    .dataframe tbody tr th {\n",
       "        vertical-align: top;\n",
       "    }\n",
       "\n",
       "    .dataframe thead th {\n",
       "        text-align: right;\n",
       "    }\n",
       "</style>\n",
       "<table border=\"1\" class=\"dataframe\">\n",
       "  <thead>\n",
       "    <tr style=\"text-align: right;\">\n",
       "      <th></th>\n",
       "      <th>38951</th>\n",
       "    </tr>\n",
       "  </thead>\n",
       "  <tbody>\n",
       "    <tr>\n",
       "      <th>review_scores_rating</th>\n",
       "      <td>96</td>\n",
       "    </tr>\n",
       "    <tr>\n",
       "      <th>review_scores_accuracy</th>\n",
       "      <td>10</td>\n",
       "    </tr>\n",
       "    <tr>\n",
       "      <th>review_scores_cleanliness</th>\n",
       "      <td>10</td>\n",
       "    </tr>\n",
       "    <tr>\n",
       "      <th>review_scores_checkin</th>\n",
       "      <td>10</td>\n",
       "    </tr>\n",
       "    <tr>\n",
       "      <th>review_scores_communication</th>\n",
       "      <td>10</td>\n",
       "    </tr>\n",
       "    <tr>\n",
       "      <th>review_scores_location</th>\n",
       "      <td>10</td>\n",
       "    </tr>\n",
       "    <tr>\n",
       "      <th>review_scores_value</th>\n",
       "      <td>9</td>\n",
       "    </tr>\n",
       "    <tr>\n",
       "      <th>id</th>\n",
       "      <td>7849135</td>\n",
       "    </tr>\n",
       "    <tr>\n",
       "      <th>last_scraped</th>\n",
       "      <td>2017-03-04</td>\n",
       "    </tr>\n",
       "    <tr>\n",
       "      <th>last_review</th>\n",
       "      <td>2017-02-17</td>\n",
       "    </tr>\n",
       "    <tr>\n",
       "      <th>neighbourhood_cleansed</th>\n",
       "      <td>Tower Hamlets</td>\n",
       "    </tr>\n",
       "    <tr>\n",
       "      <th>longitude</th>\n",
       "      <td>-0.0461759</td>\n",
       "    </tr>\n",
       "    <tr>\n",
       "      <th>latitude</th>\n",
       "      <td>51.5093</td>\n",
       "    </tr>\n",
       "    <tr>\n",
       "      <th>room_type</th>\n",
       "      <td>Entire home/apt</td>\n",
       "    </tr>\n",
       "    <tr>\n",
       "      <th>property_type</th>\n",
       "      <td>Apartment</td>\n",
       "    </tr>\n",
       "    <tr>\n",
       "      <th>bathrooms</th>\n",
       "      <td>2</td>\n",
       "    </tr>\n",
       "    <tr>\n",
       "      <th>bedrooms</th>\n",
       "      <td>1</td>\n",
       "    </tr>\n",
       "    <tr>\n",
       "      <th>beds</th>\n",
       "      <td>3</td>\n",
       "    </tr>\n",
       "    <tr>\n",
       "      <th>price_cleansed</th>\n",
       "      <td>69</td>\n",
       "    </tr>\n",
       "    <tr>\n",
       "      <th>area</th>\n",
       "      <td>19.7779</td>\n",
       "    </tr>\n",
       "    <tr>\n",
       "      <th>l_price</th>\n",
       "      <td>4.23411</td>\n",
       "    </tr>\n",
       "  </tbody>\n",
       "</table>\n",
       "</div>"
      ],
      "text/plain": [
       "                                       38951\n",
       "review_scores_rating                      96\n",
       "review_scores_accuracy                    10\n",
       "review_scores_cleanliness                 10\n",
       "review_scores_checkin                     10\n",
       "review_scores_communication               10\n",
       "review_scores_location                    10\n",
       "review_scores_value                        9\n",
       "id                                   7849135\n",
       "last_scraped                      2017-03-04\n",
       "last_review                       2017-02-17\n",
       "neighbourhood_cleansed         Tower Hamlets\n",
       "longitude                         -0.0461759\n",
       "latitude                             51.5093\n",
       "room_type                    Entire home/apt\n",
       "property_type                      Apartment\n",
       "bathrooms                                  2\n",
       "bedrooms                                   1\n",
       "beds                                       3\n",
       "price_cleansed                            69\n",
       "area                                 19.7779\n",
       "l_price                              4.23411"
      ]
     },
     "execution_count": 106,
     "metadata": {},
     "output_type": "execute_result"
    }
   ],
   "source": [
    "db_all.loc[db_all['id']==7849135, :].T"
   ]
  },
  {
   "cell_type": "code",
   "execution_count": 107,
   "metadata": {},
   "outputs": [
    {
     "data": {
      "text/html": [
       "<div>\n",
       "<style scoped>\n",
       "    .dataframe tbody tr th:only-of-type {\n",
       "        vertical-align: middle;\n",
       "    }\n",
       "\n",
       "    .dataframe tbody tr th {\n",
       "        vertical-align: top;\n",
       "    }\n",
       "\n",
       "    .dataframe thead th {\n",
       "        text-align: right;\n",
       "    }\n",
       "</style>\n",
       "<table border=\"1\" class=\"dataframe\">\n",
       "  <thead>\n",
       "    <tr style=\"text-align: right;\">\n",
       "      <th></th>\n",
       "      <th>review_scores_rating</th>\n",
       "      <th>review_scores_accuracy</th>\n",
       "      <th>review_scores_cleanliness</th>\n",
       "      <th>review_scores_checkin</th>\n",
       "      <th>review_scores_communication</th>\n",
       "      <th>review_scores_location</th>\n",
       "      <th>review_scores_value</th>\n",
       "      <th>id</th>\n",
       "      <th>last_scraped</th>\n",
       "      <th>last_review</th>\n",
       "      <th>...</th>\n",
       "      <th>longitude</th>\n",
       "      <th>latitude</th>\n",
       "      <th>room_type</th>\n",
       "      <th>property_type</th>\n",
       "      <th>bathrooms</th>\n",
       "      <th>bedrooms</th>\n",
       "      <th>beds</th>\n",
       "      <th>price_cleansed</th>\n",
       "      <th>area</th>\n",
       "      <th>l_price</th>\n",
       "    </tr>\n",
       "  </thead>\n",
       "  <tbody>\n",
       "    <tr>\n",
       "      <th>0</th>\n",
       "      <td>100.0</td>\n",
       "      <td>10.0</td>\n",
       "      <td>10.0</td>\n",
       "      <td>10.0</td>\n",
       "      <td>10.0</td>\n",
       "      <td>10.0</td>\n",
       "      <td>10.0</td>\n",
       "      <td>15896822</td>\n",
       "      <td>2017-03-05</td>\n",
       "      <td>2016-12-03</td>\n",
       "      <td>...</td>\n",
       "      <td>-0.306323</td>\n",
       "      <td>51.410036</td>\n",
       "      <td>Private room</td>\n",
       "      <td>Apartment</td>\n",
       "      <td>1.0</td>\n",
       "      <td>1.0</td>\n",
       "      <td>1.0</td>\n",
       "      <td>23.0</td>\n",
       "      <td>37.261119</td>\n",
       "      <td>3.135494</td>\n",
       "    </tr>\n",
       "    <tr>\n",
       "      <th>1</th>\n",
       "      <td>91.0</td>\n",
       "      <td>9.0</td>\n",
       "      <td>9.0</td>\n",
       "      <td>10.0</td>\n",
       "      <td>9.0</td>\n",
       "      <td>9.0</td>\n",
       "      <td>10.0</td>\n",
       "      <td>4836957</td>\n",
       "      <td>2017-03-05</td>\n",
       "      <td>2016-09-07</td>\n",
       "      <td>...</td>\n",
       "      <td>-0.290704</td>\n",
       "      <td>51.411482</td>\n",
       "      <td>Private room</td>\n",
       "      <td>Apartment</td>\n",
       "      <td>1.0</td>\n",
       "      <td>1.0</td>\n",
       "      <td>1.0</td>\n",
       "      <td>50.0</td>\n",
       "      <td>37.261119</td>\n",
       "      <td>3.912023</td>\n",
       "    </tr>\n",
       "    <tr>\n",
       "      <th>2</th>\n",
       "      <td>80.0</td>\n",
       "      <td>10.0</td>\n",
       "      <td>8.0</td>\n",
       "      <td>10.0</td>\n",
       "      <td>10.0</td>\n",
       "      <td>10.0</td>\n",
       "      <td>8.0</td>\n",
       "      <td>13355982</td>\n",
       "      <td>2017-03-05</td>\n",
       "      <td>2016-07-27</td>\n",
       "      <td>...</td>\n",
       "      <td>-0.286496</td>\n",
       "      <td>51.415851</td>\n",
       "      <td>Private room</td>\n",
       "      <td>Apartment</td>\n",
       "      <td>1.0</td>\n",
       "      <td>1.0</td>\n",
       "      <td>1.0</td>\n",
       "      <td>24.0</td>\n",
       "      <td>37.261119</td>\n",
       "      <td>3.178054</td>\n",
       "    </tr>\n",
       "    <tr>\n",
       "      <th>3</th>\n",
       "      <td>NaN</td>\n",
       "      <td>NaN</td>\n",
       "      <td>NaN</td>\n",
       "      <td>NaN</td>\n",
       "      <td>NaN</td>\n",
       "      <td>NaN</td>\n",
       "      <td>NaN</td>\n",
       "      <td>13472704</td>\n",
       "      <td>2017-03-05</td>\n",
       "      <td>NaN</td>\n",
       "      <td>...</td>\n",
       "      <td>-0.292246</td>\n",
       "      <td>51.415723</td>\n",
       "      <td>Private room</td>\n",
       "      <td>House</td>\n",
       "      <td>1.5</td>\n",
       "      <td>1.0</td>\n",
       "      <td>1.0</td>\n",
       "      <td>50.0</td>\n",
       "      <td>37.261119</td>\n",
       "      <td>3.912023</td>\n",
       "    </tr>\n",
       "    <tr>\n",
       "      <th>4</th>\n",
       "      <td>NaN</td>\n",
       "      <td>NaN</td>\n",
       "      <td>NaN</td>\n",
       "      <td>NaN</td>\n",
       "      <td>NaN</td>\n",
       "      <td>NaN</td>\n",
       "      <td>NaN</td>\n",
       "      <td>17430865</td>\n",
       "      <td>2017-03-05</td>\n",
       "      <td>NaN</td>\n",
       "      <td>...</td>\n",
       "      <td>-0.275426</td>\n",
       "      <td>51.404285</td>\n",
       "      <td>Private room</td>\n",
       "      <td>House</td>\n",
       "      <td>1.0</td>\n",
       "      <td>1.0</td>\n",
       "      <td>1.0</td>\n",
       "      <td>25.0</td>\n",
       "      <td>37.261119</td>\n",
       "      <td>3.218876</td>\n",
       "    </tr>\n",
       "  </tbody>\n",
       "</table>\n",
       "<p>5 rows × 21 columns</p>\n",
       "</div>"
      ],
      "text/plain": [
       "   review_scores_rating  review_scores_accuracy  review_scores_cleanliness  \\\n",
       "0                 100.0                    10.0                       10.0   \n",
       "1                  91.0                     9.0                        9.0   \n",
       "2                  80.0                    10.0                        8.0   \n",
       "3                   NaN                     NaN                        NaN   \n",
       "4                   NaN                     NaN                        NaN   \n",
       "\n",
       "   review_scores_checkin  review_scores_communication  review_scores_location  \\\n",
       "0                   10.0                         10.0                    10.0   \n",
       "1                   10.0                          9.0                     9.0   \n",
       "2                   10.0                         10.0                    10.0   \n",
       "3                    NaN                          NaN                     NaN   \n",
       "4                    NaN                          NaN                     NaN   \n",
       "\n",
       "   review_scores_value        id last_scraped last_review    ...    longitude  \\\n",
       "0                 10.0  15896822   2017-03-05  2016-12-03    ...    -0.306323   \n",
       "1                 10.0   4836957   2017-03-05  2016-09-07    ...    -0.290704   \n",
       "2                  8.0  13355982   2017-03-05  2016-07-27    ...    -0.286496   \n",
       "3                  NaN  13472704   2017-03-05         NaN    ...    -0.292246   \n",
       "4                  NaN  17430865   2017-03-05         NaN    ...    -0.275426   \n",
       "\n",
       "    latitude     room_type property_type bathrooms  bedrooms  beds  \\\n",
       "0  51.410036  Private room     Apartment       1.0       1.0   1.0   \n",
       "1  51.411482  Private room     Apartment       1.0       1.0   1.0   \n",
       "2  51.415851  Private room     Apartment       1.0       1.0   1.0   \n",
       "3  51.415723  Private room         House       1.5       1.0   1.0   \n",
       "4  51.404285  Private room         House       1.0       1.0   1.0   \n",
       "\n",
       "   price_cleansed       area   l_price  \n",
       "0            23.0  37.261119  3.135494  \n",
       "1            50.0  37.261119  3.912023  \n",
       "2            24.0  37.261119  3.178054  \n",
       "3            50.0  37.261119  3.912023  \n",
       "4            25.0  37.261119  3.218876  \n",
       "\n",
       "[5 rows x 21 columns]"
      ]
     },
     "execution_count": 107,
     "metadata": {},
     "output_type": "execute_result"
    }
   ],
   "source": [
    "db_all.head()"
   ]
  },
  {
   "cell_type": "code",
   "execution_count": 108,
   "metadata": {},
   "outputs": [],
   "source": [
    "hid = 38951"
   ]
  },
  {
   "cell_type": "code",
   "execution_count": 109,
   "metadata": {},
   "outputs": [
    {
     "data": {
      "text/plain": [
       "l_price           3.13549\n",
       "bedrooms                1\n",
       "bathrooms               1\n",
       "beds                    1\n",
       "room_type    Private room\n",
       "Name: 0, dtype: object"
      ]
     },
     "execution_count": 109,
     "metadata": {},
     "output_type": "execute_result"
    }
   ],
   "source": [
    "db.loc[hid1, :]"
   ]
  },
  {
   "cell_type": "code",
   "execution_count": 110,
   "metadata": {},
   "outputs": [
    {
     "data": {
      "text/plain": [
       "l_price              4.23411\n",
       "bedrooms                   1\n",
       "bathrooms                  2\n",
       "beds                       3\n",
       "room_type    Entire home/apt\n",
       "Name: 38951, dtype: object"
      ]
     },
     "execution_count": 110,
     "metadata": {},
     "output_type": "execute_result"
    }
   ],
   "source": [
    "db.loc[hid, :]"
   ]
  },
  {
   "cell_type": "markdown",
   "metadata": {},
   "source": [
    "$$\n",
    "\\hat{\\log(P_i)} = \\alpha + \\sum_k \\beta_k * X_k\n",
    "$$"
   ]
  },
  {
   "cell_type": "code",
   "execution_count": 111,
   "metadata": {},
   "outputs": [
    {
     "data": {
      "text/plain": [
       "4.396095126749941"
      ]
     },
     "execution_count": 111,
     "metadata": {},
     "output_type": "execute_result"
    }
   ],
   "source": [
    "m1.params['Intercept'] + db.loc[hid, cols].dot(m1.params[cols])"
   ]
  },
  {
   "cell_type": "markdown",
   "metadata": {},
   "source": [
    "To note:\n",
    "\n",
    "- What does `dot` do?"
   ]
  },
  {
   "cell_type": "code",
   "execution_count": 112,
   "metadata": {},
   "outputs": [
    {
     "data": {
      "text/plain": [
       "4.396095126749941"
      ]
     },
     "execution_count": 112,
     "metadata": {},
     "output_type": "execute_result"
    }
   ],
   "source": [
    "m1.fittedvalues[hid]"
   ]
  },
  {
   "cell_type": "code",
   "execution_count": 113,
   "metadata": {},
   "outputs": [],
   "source": [
    "# Point predictive simulation"
   ]
  },
  {
   "cell_type": "code",
   "execution_count": 114,
   "metadata": {},
   "outputs": [
    {
     "name": "stdout",
     "output_type": "stream",
     "text": [
      "Wall time: 809 ms\n"
     ]
    }
   ],
   "source": [
    "%%time\n",
    "# Parameters\n",
    "## Number of simulations\n",
    "r = 2000\n",
    "# Pull out characteristics for house of interest\n",
    "x_i = db.loc[hid, cols]\n",
    "# Specify model engine\n",
    "model = m1\n",
    "\n",
    "# Place-holder\n",
    "sims = np.zeros(r)\n",
    "# Loop over number of replications\n",
    "for i in range(r):\n",
    "    # Get a random draw of betas\n",
    "    rbs = np.random.normal(model.params, model.bse)\n",
    "    # Get a random draw of epsilon\n",
    "    re = np.random.normal(0, model.scale)\n",
    "    # Obtain point estimate\n",
    "    y_hr = rbs[0] + np.dot(x_i, rbs[1:]) + re\n",
    "    # Store estimate\n",
    "    sims[i] = y_hr"
   ]
  },
  {
   "cell_type": "code",
   "execution_count": 115,
   "metadata": {},
   "outputs": [
    {
     "data": {
      "image/png": "[encoded data removed]",
      "text/plain": [
       "<Figure size 864x432 with 1 Axes>"
      ]
     },
     "metadata": {},
     "output_type": "display_data"
    }
   ],
   "source": [
    "f, ax = plt.subplots(1, figsize=(12, 6))\n",
    "\n",
    "sns.kdeplot(sims, shade=True, ax=ax, label='Simulation')\n",
    "ax.axvline(db.loc[hid, 'l_price'], c='orange', label='Observed')\n",
    "ax.axvline(model.fittedvalues[hid], c='green', label='Predicted')\n",
    "\n",
    "lo, up = pd.Series(sims).sort_values().iloc[[int(np.round(0.025 * r)), int(np.round(0.975 * r))]]\n",
    "ax.axvline(lo, c='grey', linewidth=1)\n",
    "ax.axvline(up, c='grey', linewidth=1)\n",
    "\n",
    "plt.legend()\n",
    "plt.show()"
   ]
  },
  {
   "cell_type": "markdown",
   "metadata": {},
   "source": [
    "To note:\n",
    "\n",
    "- Intuition of the simulation\n",
    "- The `for` loop, deconstructed\n",
    "- The graph, bit by bit\n",
    "- If we did this for every observation, we'd expect 95% to be within the 95% bands\n",
    "\n",
    "**Exercise**\n",
    "\n",
    "Explore with the code above and try to generate similar plots for:\n",
    "\n",
    "- Different houses across locations and characteristics\n",
    "- Different model\n",
    "\n",
    "Now, we could do this for *all* the observations and get a sense of the overall distribution to be expected"
   ]
  },
  {
   "cell_type": "code",
   "execution_count": 116,
   "metadata": {},
   "outputs": [
    {
     "name": "stdout",
     "output_type": "stream",
     "text": [
      "Wall time: 2.45 s\n"
     ]
    }
   ],
   "source": [
    "%%time\n",
    "# Parameters\n",
    "## Number of observations & simulations\n",
    "n = db.shape[0]\n",
    "r = 200\n",
    "# Specify model engine\n",
    "model = m1\n",
    "\n",
    "# Place-holder (N, r)\n",
    "sims = np.zeros((n, r))\n",
    "# Loop over number of replications\n",
    "for i in range(r):\n",
    "    # Get a random draw of betas\n",
    "    rbs = np.random.normal(model.params, model.bse)\n",
    "    # Get a random draw of epsilon\n",
    "    re = np.random.normal([0]*n, model.scale)\n",
    "    # Obtain point estimate\n",
    "    y_hr = rbs[0] + np.dot(db[cols], rbs[1:]) + re\n",
    "    # Store estimate\n",
    "    sims[:, i] = y_hr"
   ]
  },
  {
   "cell_type": "code",
   "execution_count": 117,
   "metadata": {},
   "outputs": [
    {
     "data": {
      "image/png": "[encoded data removed]",
      "text/plain": [
       "<Figure size 864x432 with 1 Axes>"
      ]
     },
     "metadata": {},
     "output_type": "display_data"
    }
   ],
   "source": [
    "f, ax = plt.subplots(1, figsize=(12, 6))\n",
    "\n",
    "for i in range(10):\n",
    "    sns.kdeplot(sims[:, i], ax=ax, linewidth=0.1, alpha=0.1, color='k')\n",
    "    \n",
    "plt.show()"
   ]
  },
  {
   "cell_type": "code",
   "execution_count": 118,
   "metadata": {},
   "outputs": [
    {
     "data": {
      "image/png": "[encoded data removed]",
      "text/plain": [
       "<Figure size 864x432 with 1 Axes>"
      ]
     },
     "metadata": {},
     "output_type": "display_data"
    }
   ],
   "source": [
    "f, ax = plt.subplots(1, figsize=(12, 6))\n",
    "\n",
    "sns.kdeplot(db['l_price'], shade=True, ax=ax, label='$y$')\n",
    "sns.kdeplot(m1.fittedvalues, shade=True, ax=ax, label='$\\hat{y}$')\n",
    "\n",
    "for i in range(r):\n",
    "    sns.kdeplot(sims[:, i], ax=ax, linewidth=0.1, alpha=0.1, color='k')\n",
    "    \n",
    "plt.show()"
   ]
  },
  {
   "cell_type": "markdown",
   "metadata": {},
   "source": [
    "To note:\n",
    "\n",
    "- Black line contains `r` thin lines that collectively capture the uncertainty behind the model"
   ]
  },
  {
   "cell_type": "markdown",
   "metadata": {},
   "source": [
    "---\n",
    "\n",
    "[Break]\n",
    "\n",
    "---"
   ]
  },
  {
   "cell_type": "markdown",
   "metadata": {},
   "source": [
    "### New data\n",
    "\n",
    "Imagine we are trying to figure out how much should we charge for a property we want to put on AirBnb.\n",
    "\n",
    "For example, let's assume our property is:"
   ]
  },
  {
   "cell_type": "code",
   "execution_count": 119,
   "metadata": {},
   "outputs": [],
   "source": [
    "new = pd.Series({'bedrooms': 4,\n",
    "                 'bathrooms': 1,\n",
    "                 'beds': 8})"
   ]
  },
  {
   "cell_type": "code",
   "execution_count": 120,
   "metadata": {},
   "outputs": [
    {
     "name": "stdout",
     "output_type": "stream",
     "text": [
      "Wall time: 787 ms\n"
     ]
    }
   ],
   "source": [
    "%%time\n",
    "# Parameters\n",
    "## Number of simulations\n",
    "r = 2000\n",
    "# Pull out characteristics for house of interest\n",
    "x_i = new\n",
    "# Specify model engine\n",
    "model = m1\n",
    "\n",
    "# Place-holder\n",
    "sims = np.zeros(r)\n",
    "# Loop over number of replications\n",
    "for i in range(r):\n",
    "    # Get a random draw of betas\n",
    "    rbs = np.random.normal(model.params, model.bse)\n",
    "    # Get a random draw of epsilon\n",
    "    re = np.random.normal(0, model.scale)\n",
    "    # Obtain point estimate\n",
    "    y_hr = rbs[0] + np.dot(x_i, rbs[1:]) + re\n",
    "    # Store estimate\n",
    "    sims[i] = y_hr"
   ]
  },
  {
   "cell_type": "code",
   "execution_count": 121,
   "metadata": {},
   "outputs": [
    {
     "data": {
      "image/png": "[encoded data removed]",
      "text/plain": [
       "<Figure size 864x432 with 1 Axes>"
      ]
     },
     "metadata": {},
     "output_type": "display_data"
    }
   ],
   "source": [
    "f, ax = plt.subplots(1, figsize=(12, 6))\n",
    "\n",
    "sns.kdeplot(sims, shade=True, ax=ax, label='Simulation')\n",
    "ax.axvline(model.params.iloc[0] + np.dot(new, model.params.iloc[1:]), \\\n",
    "           c='green', label='Predicted')\n",
    "\n",
    "lo, up = pd.Series(sims).sort_values().iloc[[int(np.round(0.025 * r)), int(np.round(0.975 * r))]]\n",
    "ax.axvline(lo, c='grey', linewidth=1)\n",
    "ax.axvline(up, c='grey', linewidth=1)\n",
    "\n",
    "plt.legend()\n",
    "plt.show()"
   ]
  },
  {
   "cell_type": "markdown",
   "metadata": {},
   "source": [
    "**[Pro]**"
   ]
  },
  {
   "cell_type": "code",
   "execution_count": 122,
   "metadata": {},
   "outputs": [],
   "source": [
    "def predictor(bedrooms, bathrooms, beds):\n",
    "    new = pd.Series({'bedrooms': bedrooms,\n",
    "                     'bathrooms': bathrooms,\n",
    "                     'beds': beds})\n",
    "    r = 1000\n",
    "    x_i = new\n",
    "    model = m1\n",
    "    #\n",
    "    sims = np.zeros(r)\n",
    "    for i in range(r):\n",
    "        rbs = np.random.normal(model.params, model.bse)\n",
    "        re = np.random.normal(0, model.scale)\n",
    "        y_hr = rbs[0] + np.dot(x_i, rbs[1:]) + re\n",
    "        sims[i] = y_hr\n",
    "    f, ax = plt.subplots(1, figsize=(12, 6))\n",
    "    ax.hist(sims, label='Simulation', alpha=0.25, bins=30)\n",
    "    ax.axvline(model.params.iloc[0] + np.dot(new, model.params.iloc[1:]), \\\n",
    "               c='green', label='Predicted')\n",
    "    lo, up = pd.Series(sims).sort_values().iloc[[int(np.round(0.025 * r)), int(np.round(0.975 * r))]]\n",
    "    ax.axvline(lo, c='grey', linewidth=1, label='95% CI')\n",
    "    ax.axvline(up, c='grey', linewidth=1)\n",
    "    ax.set_xlim((0, 10))\n",
    "    plt.legend()\n",
    "    return plt.show()"
   ]
  },
  {
   "cell_type": "code",
   "execution_count": 123,
   "metadata": {},
   "outputs": [
    {
     "data": {
      "image/png": "[encoded data removed]",
      "text/plain": [
       "<Figure size 864x432 with 1 Axes>"
      ]
     },
     "metadata": {},
     "output_type": "display_data"
    }
   ],
   "source": [
    "predictor(3, 1, 1)"
   ]
  },
  {
   "cell_type": "code",
   "execution_count": 124,
   "metadata": {},
   "outputs": [
    {
     "data": {
      "application/vnd.jupyter.widget-view+json": {
       "model_id": "2487b2f7ff9a48f9b639f3bb23696454",
       "version_major": 2,
       "version_minor": 0
      },
      "text/html": [
       "<p>Failed to display Jupyter Widget of type <code>interactive</code>.</p>\n",
       "<p>\n",
       "  If you're reading this message in the Jupyter Notebook or JupyterLab Notebook, it may mean\n",
       "  that the widgets JavaScript is still loading. If this message persists, it\n",
       "  likely means that the widgets JavaScript library is either not installed or\n",
       "  not enabled. See the <a href=\"https://ipywidgets.readthedocs.io/en/stable/user_install.html\">Jupyter\n",
       "  Widgets Documentation</a> for setup instructions.\n",
       "</p>\n",
       "<p>\n",
       "  If you're reading this message in another frontend (for example, a static\n",
       "  rendering on GitHub or <a href=\"https://nbviewer.jupyter.org/\">NBViewer</a>),\n",
       "  it may mean that your frontend doesn't currently support widgets.\n",
       "</p>\n"
      ],
      "text/plain": [
       "interactive(children=(IntSlider(value=1, description='bedrooms', max=10, min=1), IntSlider(value=0, description='bathrooms', max=10), IntSlider(value=1, description='beds', max=20, min=1), Output()), _dom_classes=('widget-interact',))"
      ]
     },
     "metadata": {},
     "output_type": "display_data"
    }
   ],
   "source": [
    "# You might have to run this to make interactives work\n",
    "# jupyter labextension install @jupyter-widgets/jupyterlab-manager\n",
    "# From https://ipywidgets.readthedocs.io/en/latest/user_install.html#installing-the-jupyterlab-extension\n",
    "# Then restart Jupyter Lab\n",
    "from ipywidgets import interact, IntSlider\n",
    "\n",
    "interact(predictor, bedrooms=IntSlider(min=1, max=10), \\\n",
    "                    bathrooms=IntSlider(min=0, max=10), \\\n",
    "                    beds=IntSlider(min=1, max=20));"
   ]
  },
  {
   "cell_type": "markdown",
   "metadata": {},
   "source": [
    "## Model performance\n",
    "\n",
    "To note:\n",
    "\n",
    "- Switch from inference to prediction\n",
    "- Overall idea of summarising model performance\n",
    "- $R^2$\n",
    "- Error-based measures"
   ]
  },
  {
   "cell_type": "code",
   "execution_count": 125,
   "metadata": {},
   "outputs": [
    {
     "data": {
      "text/plain": [
       "Augmented    0.603708\n",
       "Baseline     0.330976\n",
       "dtype: float64"
      ]
     },
     "execution_count": 125,
     "metadata": {},
     "output_type": "execute_result"
    }
   ],
   "source": [
    "# R^2\n",
    "r2 = pd.Series({'Baseline': metrics.r2_score(db['l_price'],\n",
    "                                              m1.fittedvalues),\n",
    "                'Augmented': metrics.r2_score(db['l_price'],\n",
    "                                              m3.fittedvalues)})\n",
    "\n",
    "MSE = model_selection.cross_val_score(LinearRegression(),\n",
    "                                      db.iloc[rids, :][cols],\n",
    "                                      db.iloc[rids, :]['l_price'],\n",
    "                                      cv=5,\n",
    "                                      scoring='mse')\n",
    "\n",
    "r2"
   ]
  },
  {
   "cell_type": "code",
   "execution_count": 126,
   "metadata": {},
   "outputs": [
    {
     "data": {
      "text/plain": [
       "Augmented    0.19385\n",
       "Baseline     0.32726\n",
       "dtype: float64"
      ]
     },
     "execution_count": 126,
     "metadata": {},
     "output_type": "execute_result"
    }
   ],
   "source": [
    "# MSE\n",
    "mse = pd.Series({'Baseline': metrics.mean_squared_error(db['l_price'],\n",
    "                                                        m1.fittedvalues),\n",
    "                 'Augmented': metrics.mean_squared_error(db['l_price'],\n",
    "                                                         m3.fittedvalues)})\n",
    "mse"
   ]
  },
  {
   "cell_type": "code",
   "execution_count": 127,
   "metadata": {},
   "outputs": [
    {
     "data": {
      "text/plain": [
       "Augmented    0.335668\n",
       "Baseline     0.457220\n",
       "dtype: float64"
      ]
     },
     "execution_count": 127,
     "metadata": {},
     "output_type": "execute_result"
    }
   ],
   "source": [
    "# MAE\n",
    "mae = pd.Series({'Baseline': metrics.mean_absolute_error(db['l_price'],\n",
    "                                                         m1.fittedvalues),\n",
    "                 'Augmented': metrics.mean_absolute_error(db['l_price'],\n",
    "                                                          m3.fittedvalues)})\n",
    "mae"
   ]
  },
  {
   "cell_type": "code",
   "execution_count": 128,
   "metadata": {},
   "outputs": [
    {
     "data": {
      "text/html": [
       "<div>\n",
       "<style scoped>\n",
       "    .dataframe tbody tr th:only-of-type {\n",
       "        vertical-align: middle;\n",
       "    }\n",
       "\n",
       "    .dataframe tbody tr th {\n",
       "        vertical-align: top;\n",
       "    }\n",
       "\n",
       "    .dataframe thead th {\n",
       "        text-align: right;\n",
       "    }\n",
       "</style>\n",
       "<table border=\"1\" class=\"dataframe\">\n",
       "  <thead>\n",
       "    <tr style=\"text-align: right;\">\n",
       "      <th></th>\n",
       "      <th>MAE</th>\n",
       "      <th>MSE</th>\n",
       "      <th>R^2</th>\n",
       "    </tr>\n",
       "  </thead>\n",
       "  <tbody>\n",
       "    <tr>\n",
       "      <th>Augmented</th>\n",
       "      <td>0.335668</td>\n",
       "      <td>0.19385</td>\n",
       "      <td>0.603708</td>\n",
       "    </tr>\n",
       "    <tr>\n",
       "      <th>Baseline</th>\n",
       "      <td>0.457220</td>\n",
       "      <td>0.32726</td>\n",
       "      <td>0.330976</td>\n",
       "    </tr>\n",
       "  </tbody>\n",
       "</table>\n",
       "</div>"
      ],
      "text/plain": [
       "                MAE      MSE       R^2\n",
       "Augmented  0.335668  0.19385  0.603708\n",
       "Baseline   0.457220  0.32726  0.330976"
      ]
     },
     "execution_count": 128,
     "metadata": {},
     "output_type": "execute_result"
    }
   ],
   "source": [
    "# All\n",
    "perf = pd.DataFrame({'MAE': mae,\n",
    "                     'MSE': mse,\n",
    "                     'R^2': r2})\n",
    "perf"
   ]
  },
  {
   "cell_type": "markdown",
   "metadata": {},
   "source": [
    "## Overfitting & cross-validation\n",
    "\n",
    "* *What*, *Why*, *When* overfitting\n",
    "* Little data/lots of parameters --> *Mo* problems!\n",
    "* What is cross-validation"
   ]
  },
  {
   "cell_type": "code",
   "execution_count": 129,
   "metadata": {},
   "outputs": [],
   "source": [
    "# Split\n",
    "x_train, x_test, y_train, y_test = model_selection.train_test_split(db[cols], \n",
    "                                                                    db['l_price'],\n",
    "                                                                    test_size=0.2)"
   ]
  },
  {
   "cell_type": "code",
   "execution_count": 130,
   "metadata": {},
   "outputs": [],
   "source": [
    "# Train\n",
    "f = 'l_price ~ bedrooms + bathrooms + beds'\n",
    "m1_tr = sm.ols(f, x_train.assign(l_price=y_train)).fit()"
   ]
  },
  {
   "cell_type": "code",
   "execution_count": 131,
   "metadata": {},
   "outputs": [
    {
     "data": {
      "text/html": [
       "<div>\n",
       "<style scoped>\n",
       "    .dataframe tbody tr th:only-of-type {\n",
       "        vertical-align: middle;\n",
       "    }\n",
       "\n",
       "    .dataframe tbody tr th {\n",
       "        vertical-align: top;\n",
       "    }\n",
       "\n",
       "    .dataframe thead th {\n",
       "        text-align: right;\n",
       "    }\n",
       "</style>\n",
       "<table border=\"1\" class=\"dataframe\">\n",
       "  <thead>\n",
       "    <tr style=\"text-align: right;\">\n",
       "      <th></th>\n",
       "      <th>Full Dataset</th>\n",
       "      <th>Train Set</th>\n",
       "    </tr>\n",
       "  </thead>\n",
       "  <tbody>\n",
       "    <tr>\n",
       "      <th>Intercept</th>\n",
       "      <td>3.613890</td>\n",
       "      <td>3.616187</td>\n",
       "    </tr>\n",
       "    <tr>\n",
       "      <th>bedrooms</th>\n",
       "      <td>0.291420</td>\n",
       "      <td>0.298863</td>\n",
       "    </tr>\n",
       "    <tr>\n",
       "      <th>bathrooms</th>\n",
       "      <td>0.025511</td>\n",
       "      <td>0.023787</td>\n",
       "    </tr>\n",
       "    <tr>\n",
       "      <th>beds</th>\n",
       "      <td>0.146588</td>\n",
       "      <td>0.140106</td>\n",
       "    </tr>\n",
       "  </tbody>\n",
       "</table>\n",
       "</div>"
      ],
      "text/plain": [
       "           Full Dataset  Train Set\n",
       "Intercept      3.613890   3.616187\n",
       "bedrooms       0.291420   0.298863\n",
       "bathrooms      0.025511   0.023787\n",
       "beds           0.146588   0.140106"
      ]
     },
     "execution_count": 131,
     "metadata": {},
     "output_type": "execute_result"
    }
   ],
   "source": [
    "pd.DataFrame({'Full Dataset': m1.params,\n",
    "              'Train Set': m1_tr.params})"
   ]
  },
  {
   "cell_type": "code",
   "execution_count": 132,
   "metadata": {},
   "outputs": [
    {
     "data": {
      "text/plain": [
       "Full Dataset    0.330976\n",
       "Train Set       0.331137\n",
       "dtype: float64"
      ]
     },
     "execution_count": 132,
     "metadata": {},
     "output_type": "execute_result"
    }
   ],
   "source": [
    "pd.Series({'Full Dataset': m1.rsquared,\n",
    "              'Train Set': m1_tr.rsquared})"
   ]
  },
  {
   "cell_type": "code",
   "execution_count": 133,
   "metadata": {},
   "outputs": [
    {
     "data": {
      "text/plain": [
       "0-Full Dataset    0.330976\n",
       "1-Train Set       0.331137\n",
       "2-Test Set        0.330022\n",
       "dtype: float64"
      ]
     },
     "execution_count": 133,
     "metadata": {},
     "output_type": "execute_result"
    }
   ],
   "source": [
    "# Test\n",
    "test_pred = m1_tr.params['Intercept'] + \\\n",
    "            x_test.dot(m1_tr.params.drop('Intercept'))\n",
    "pd.Series({'0-Full Dataset': m1.rsquared,\n",
    "           '1-Train Set': m1_tr.rsquared,\n",
    "           '2-Test Set': metrics.r2_score(y_test,\n",
    "                                        test_pred)})"
   ]
  },
  {
   "cell_type": "markdown",
   "metadata": {},
   "source": [
    "To note:\n",
    "\n",
    "* Use of `assign`\n",
    "* $R^2$ increases with smaller train set, but decreases with testing (not much, which is good! why? Already regularised)"
   ]
  },
  {
   "cell_type": "code",
   "execution_count": 145,
   "metadata": {},
   "outputs": [
    {
     "name": "stdout",
     "output_type": "stream",
     "text": [
      "[0.32645041 0.33548747 0.33789322 0.32112627 0.33213165]\n"
     ]
    },
    {
     "data": {
      "text/plain": [
       "0.3306178035562174"
      ]
     },
     "execution_count": 145,
     "metadata": {},
     "output_type": "execute_result"
    }
   ],
   "source": [
    "rids = np.arange(db.shape[0])\n",
    "np.random.shuffle(rids)\n",
    "r2s = model_selection.cross_val_score(LinearRegression(),\n",
    "                                      db.iloc[rids, :][cols],\n",
    "                                      db.iloc[rids, :]['l_price'],\n",
    "                                      cv=5,\n",
    "                                      scoring='r2')\n",
    "print(r2s)\n",
    "r2s.mean()"
   ]
  },
  {
   "cell_type": "markdown",
   "metadata": {},
   "source": [
    "Just for the fun of it, let's replicate without reshufling IDs:"
   ]
  },
  {
   "cell_type": "code",
   "execution_count": 146,
   "metadata": {},
   "outputs": [
    {
     "name": "stdout",
     "output_type": "stream",
     "text": [
      "[ 0.16449518  0.34920339 -0.10119646  0.27579852  0.2976514 ]\n"
     ]
    },
    {
     "data": {
      "text/plain": [
       "0.19719040585934597"
      ]
     },
     "execution_count": 146,
     "metadata": {},
     "output_type": "execute_result"
    }
   ],
   "source": [
    "r2s = model_selection.cross_val_score(LinearRegrbession(),\n",
    "                                      db[cols],\n",
    "                                      db['l_price'],\n",
    "                                      cv=5,\n",
    "                                      scoring='r2')\n",
    "print(r2s)\n",
    "r2s.mean()"
   ]
  },
  {
   "cell_type": "code",
   "execution_count": 148,
   "metadata": {},
   "outputs": [
    {
     "ename": "ValueError",
     "evalue": "'mae' is not a valid scoring value. Valid options are ['accuracy', 'adjusted_mutual_info_score', 'adjusted_rand_score', 'average_precision', 'completeness_score', 'explained_variance', 'f1', 'f1_macro', 'f1_micro', 'f1_samples', 'f1_weighted', 'fowlkes_mallows_score', 'homogeneity_score', 'mutual_info_score', 'neg_log_loss', 'neg_mean_absolute_error', 'neg_mean_squared_error', 'neg_mean_squared_log_error', 'neg_median_absolute_error', 'normalized_mutual_info_score', 'precision', 'precision_macro', 'precision_micro', 'precision_samples', 'precision_weighted', 'r2', 'recall', 'recall_macro', 'recall_micro', 'recall_samples', 'recall_weighted', 'roc_auc', 'v_measure_score']",
     "output_type": "error",
     "traceback": [
      "\u001b[1;31m---------------------------------------------------------------------------\u001b[0m",
      "\u001b[1;31mValueError\u001b[0m                                Traceback (most recent call last)",
      "\u001b[1;32m<ipython-input-148-ff815d7798b4>\u001b[0m in \u001b[0;36m<module>\u001b[1;34m()\u001b[0m\n\u001b[0;32m      3\u001b[0m                                       \u001b[0mdb\u001b[0m\u001b[1;33m.\u001b[0m\u001b[0miloc\u001b[0m\u001b[1;33m[\u001b[0m\u001b[0mrids\u001b[0m\u001b[1;33m,\u001b[0m \u001b[1;33m:\u001b[0m\u001b[1;33m]\u001b[0m\u001b[1;33m[\u001b[0m\u001b[1;34m'l_price'\u001b[0m\u001b[1;33m]\u001b[0m\u001b[1;33m,\u001b[0m\u001b[1;33m\u001b[0m\u001b[0m\n\u001b[0;32m      4\u001b[0m                                       \u001b[0mcv\u001b[0m\u001b[1;33m=\u001b[0m\u001b[1;36m5\u001b[0m\u001b[1;33m,\u001b[0m\u001b[1;33m\u001b[0m\u001b[0m\n\u001b[1;32m----> 5\u001b[1;33m                                       scoring='mae')\n\u001b[0m",
      "\u001b[1;32m~\\Anaconda3\\envs\\gds\\lib\\site-packages\\sklearn\\model_selection\\_validation.py\u001b[0m in \u001b[0;36mcross_val_score\u001b[1;34m(estimator, X, y, groups, scoring, cv, n_jobs, verbose, fit_params, pre_dispatch)\u001b[0m\n\u001b[0;32m    333\u001b[0m     \"\"\"\n\u001b[0;32m    334\u001b[0m     \u001b[1;31m# To ensure multimetric format is not supported\u001b[0m\u001b[1;33m\u001b[0m\u001b[1;33m\u001b[0m\u001b[0m\n\u001b[1;32m--> 335\u001b[1;33m     \u001b[0mscorer\u001b[0m \u001b[1;33m=\u001b[0m \u001b[0mcheck_scoring\u001b[0m\u001b[1;33m(\u001b[0m\u001b[0mestimator\u001b[0m\u001b[1;33m,\u001b[0m \u001b[0mscoring\u001b[0m\u001b[1;33m=\u001b[0m\u001b[0mscoring\u001b[0m\u001b[1;33m)\u001b[0m\u001b[1;33m\u001b[0m\u001b[0m\n\u001b[0m\u001b[0;32m    336\u001b[0m \u001b[1;33m\u001b[0m\u001b[0m\n\u001b[0;32m    337\u001b[0m     cv_results = cross_validate(estimator=estimator, X=X, y=y, groups=groups,\n",
      "\u001b[1;32m~\\Anaconda3\\envs\\gds\\lib\\site-packages\\sklearn\\metrics\\scorer.py\u001b[0m in \u001b[0;36mcheck_scoring\u001b[1;34m(estimator, scoring, allow_none)\u001b[0m\n\u001b[0;32m    274\u001b[0m                         \"'fit' method, %r was passed\" % estimator)\n\u001b[0;32m    275\u001b[0m     \u001b[1;32mif\u001b[0m \u001b[0misinstance\u001b[0m\u001b[1;33m(\u001b[0m\u001b[0mscoring\u001b[0m\u001b[1;33m,\u001b[0m \u001b[0msix\u001b[0m\u001b[1;33m.\u001b[0m\u001b[0mstring_types\u001b[0m\u001b[1;33m)\u001b[0m\u001b[1;33m:\u001b[0m\u001b[1;33m\u001b[0m\u001b[0m\n\u001b[1;32m--> 276\u001b[1;33m         \u001b[1;32mreturn\u001b[0m \u001b[0mget_scorer\u001b[0m\u001b[1;33m(\u001b[0m\u001b[0mscoring\u001b[0m\u001b[1;33m)\u001b[0m\u001b[1;33m\u001b[0m\u001b[0m\n\u001b[0m\u001b[0;32m    277\u001b[0m     \u001b[1;32melif\u001b[0m \u001b[0mcallable\u001b[0m\u001b[1;33m(\u001b[0m\u001b[0mscoring\u001b[0m\u001b[1;33m)\u001b[0m\u001b[1;33m:\u001b[0m\u001b[1;33m\u001b[0m\u001b[0m\n\u001b[0;32m    278\u001b[0m         \u001b[1;31m# Heuristic to ensure user has not passed a metric\u001b[0m\u001b[1;33m\u001b[0m\u001b[1;33m\u001b[0m\u001b[0m\n",
      "\u001b[1;32m~\\Anaconda3\\envs\\gds\\lib\\site-packages\\sklearn\\metrics\\scorer.py\u001b[0m in \u001b[0;36mget_scorer\u001b[1;34m(scoring)\u001b[0m\n\u001b[0;32m    234\u001b[0m             raise ValueError('%r is not a valid scoring value. '\n\u001b[0;32m    235\u001b[0m                              \u001b[1;34m'Valid options are %s'\u001b[0m\u001b[1;33m\u001b[0m\u001b[0m\n\u001b[1;32m--> 236\u001b[1;33m                              % (scoring, sorted(scorers)))\n\u001b[0m\u001b[0;32m    237\u001b[0m     \u001b[1;32melse\u001b[0m\u001b[1;33m:\u001b[0m\u001b[1;33m\u001b[0m\u001b[0m\n\u001b[0;32m    238\u001b[0m         \u001b[0mscorer\u001b[0m \u001b[1;33m=\u001b[0m \u001b[0mscoring\u001b[0m\u001b[1;33m\u001b[0m\u001b[0m\n",
      "\u001b[1;31mValueError\u001b[0m: 'mae' is not a valid scoring value. Valid options are ['accuracy', 'adjusted_mutual_info_score', 'adjusted_rand_score', 'average_precision', 'completeness_score', 'explained_variance', 'f1', 'f1_macro', 'f1_micro', 'f1_samples', 'f1_weighted', 'fowlkes_mallows_score', 'homogeneity_score', 'mutual_info_score', 'neg_log_loss', 'neg_mean_absolute_error', 'neg_mean_squared_error', 'neg_mean_squared_log_error', 'neg_median_absolute_error', 'normalized_mutual_info_score', 'precision', 'precision_macro', 'precision_micro', 'precision_samples', 'precision_weighted', 'r2', 'recall', 'recall_macro', 'recall_micro', 'recall_samples', 'recall_weighted', 'roc_auc', 'v_measure_score']"
     ]
    }
   ],
   "source": [
    "MAE = model_selection.cross_val_score(LinearRegression(),\n",
    "                                      db.iloc[rids, :][cols],\n",
    "                                      db.iloc[rids, :]['l_price'],\n",
    "                                      cv=5,\n",
    "                                      scoring='mae')"
   ]
  },
  {
   "cell_type": "markdown",
   "metadata": {},
   "source": [
    "To note:\n",
    "\n",
    "* What's happened?\n",
    "* The i.i.d. assumption\n",
    "* Structure in the data that is not incorporated\n",
    "* How is CV affected?"
   ]
  },
  {
   "cell_type": "code",
   "execution_count": 136,
   "metadata": {},
   "outputs": [
    {
     "data": {
      "image/png": "[encoded data removed]",
      "text/plain": [
       "<Figure size 864x1296 with 1 Axes>"
      ]
     },
     "metadata": {},
     "output_type": "display_data"
    }
   ],
   "source": [
    "f, ax = plt.subplots(1, figsize=(12, 18))\n",
    "sns.violinplot(x='index', \n",
    "               y='neighbourhood_cleansed', \n",
    "               data=db_all.reset_index(),\n",
    "               ax=ax);"
   ]
  },
  {
   "cell_type": "markdown",
   "metadata": {},
   "source": [
    "To note:\n",
    "\n",
    "* Spatial heterogeneity\n",
    "* More generally, group membership"
   ]
  },
  {
   "cell_type": "markdown",
   "metadata": {},
   "source": [
    "## More advanced predictive methods: the Random Forest"
   ]
  },
  {
   "cell_type": "code",
   "execution_count": 137,
   "metadata": {},
   "outputs": [],
   "source": [
    "m4 = RandomForestRegressor().fit(db[cols], db['l_price'])\\\n",
    "                            .predict(db[cols])"
   ]
  },
  {
   "cell_type": "markdown",
   "metadata": {},
   "source": [
    "To note:\n",
    "\n",
    "* First `fit`, then `predict` using the same features\n",
    "* No `params` here because it's a much more flexible functional form"
   ]
  },
  {
   "cell_type": "code",
   "execution_count": 138,
   "metadata": {},
   "outputs": [
    {
     "data": {
      "text/html": [
       "<div>\n",
       "<style scoped>\n",
       "    .dataframe tbody tr th:only-of-type {\n",
       "        vertical-align: middle;\n",
       "    }\n",
       "\n",
       "    .dataframe tbody tr th {\n",
       "        vertical-align: top;\n",
       "    }\n",
       "\n",
       "    .dataframe thead th {\n",
       "        text-align: right;\n",
       "    }\n",
       "</style>\n",
       "<table border=\"1\" class=\"dataframe\">\n",
       "  <thead>\n",
       "    <tr style=\"text-align: right;\">\n",
       "      <th></th>\n",
       "      <th>MAE</th>\n",
       "      <th>MSE</th>\n",
       "      <th>R^2</th>\n",
       "    </tr>\n",
       "  </thead>\n",
       "  <tbody>\n",
       "    <tr>\n",
       "      <th>Augmented</th>\n",
       "      <td>0.335668</td>\n",
       "      <td>0.193850</td>\n",
       "      <td>0.603708</td>\n",
       "    </tr>\n",
       "    <tr>\n",
       "      <th>Baseline</th>\n",
       "      <td>0.457220</td>\n",
       "      <td>0.327260</td>\n",
       "      <td>0.330976</td>\n",
       "    </tr>\n",
       "    <tr>\n",
       "      <th>RF</th>\n",
       "      <td>0.396771</td>\n",
       "      <td>0.255988</td>\n",
       "      <td>0.476679</td>\n",
       "    </tr>\n",
       "  </tbody>\n",
       "</table>\n",
       "</div>"
      ],
      "text/plain": [
       "                MAE       MSE       R^2\n",
       "Augmented  0.335668  0.193850  0.603708\n",
       "Baseline   0.457220  0.327260  0.330976\n",
       "RF         0.396771  0.255988  0.476679"
      ]
     },
     "execution_count": 138,
     "metadata": {},
     "output_type": "execute_result"
    }
   ],
   "source": [
    "rf = pd.Series({'R^2': metrics.r2_score(db['l_price'], m4), \n",
    "                'MSE': metrics.mean_squared_error(db['l_price'], m4),\n",
    "                'MAE': metrics.mean_absolute_error(db['l_price'], m4)})\n",
    "pd.concat([perf, \n",
    "           pd.DataFrame({'RF': rf}).T])"
   ]
  },
  {
   "cell_type": "markdown",
   "metadata": {},
   "source": [
    "To note:\n",
    "\n",
    "* Use of `concat`\n",
    "* Performance comparison\n",
    "\n",
    "But..."
   ]
  },
  {
   "cell_type": "code",
   "execution_count": 139,
   "metadata": {},
   "outputs": [],
   "source": [
    "m4_cv = RandomForestRegressor().fit(x_train, y_train)\\\n",
    "                               .predict(x_test)"
   ]
  },
  {
   "cell_type": "code",
   "execution_count": 141,
   "metadata": {},
   "outputs": [
    {
     "data": {
      "text/html": [
       "<div>\n",
       "<style scoped>\n",
       "    .dataframe tbody tr th:only-of-type {\n",
       "        vertical-align: middle;\n",
       "    }\n",
       "\n",
       "    .dataframe tbody tr th {\n",
       "        vertical-align: top;\n",
       "    }\n",
       "\n",
       "    .dataframe thead th {\n",
       "        text-align: right;\n",
       "    }\n",
       "</style>\n",
       "<table border=\"1\" class=\"dataframe\">\n",
       "  <thead>\n",
       "    <tr style=\"text-align: right;\">\n",
       "      <th></th>\n",
       "      <th>MAE</th>\n",
       "      <th>MSE</th>\n",
       "      <th>R^2</th>\n",
       "    </tr>\n",
       "  </thead>\n",
       "  <tbody>\n",
       "    <tr>\n",
       "      <th>Augmented</th>\n",
       "      <td>0.335668</td>\n",
       "      <td>0.193850</td>\n",
       "      <td>0.603708</td>\n",
       "    </tr>\n",
       "    <tr>\n",
       "      <th>Baseline</th>\n",
       "      <td>0.457220</td>\n",
       "      <td>0.327260</td>\n",
       "      <td>0.330976</td>\n",
       "    </tr>\n",
       "    <tr>\n",
       "      <th>RF</th>\n",
       "      <td>0.396771</td>\n",
       "      <td>0.255988</td>\n",
       "      <td>0.476679</td>\n",
       "    </tr>\n",
       "    <tr>\n",
       "      <th>RF-CV</th>\n",
       "      <td>0.399259</td>\n",
       "      <td>0.262657</td>\n",
       "      <td>0.461876</td>\n",
       "    </tr>\n",
       "  </tbody>\n",
       "</table>\n",
       "</div>"
      ],
      "text/plain": [
       "                MAE       MSE       R^2\n",
       "Augmented  0.335668  0.193850  0.603708\n",
       "Baseline   0.457220  0.327260  0.330976\n",
       "RF         0.396771  0.255988  0.476679\n",
       "RF-CV      0.399259  0.262657  0.461876"
      ]
     },
     "execution_count": 141,
     "metadata": {},
     "output_type": "execute_result"
    }
   ],
   "source": [
    "rf_cv = pd.Series({'R^2': metrics.r2_score(y_test, m4_cv), \n",
    "                'MSE': metrics.mean_squared_error(y_test, m4_cv),\n",
    "                'MAE': metrics.mean_absolute_error(y_test, m4_cv)})\n",
    "pd.concat([perf, \n",
    "           pd.DataFrame({'RF': rf}).T,\n",
    "           pd.DataFrame({'RF-CV': rf_cv}).T])"
   ]
  },
  {
   "cell_type": "markdown",
   "metadata": {},
   "source": [
    "To note:\n",
    "\n",
    "* `m4_cv` fits on train, predicts on test\n",
    "* Comparison RF Vs RF-CV\n",
    "\n",
    "**Exercise**\n",
    "\n",
    "* [Pro] Replicate the table above based on average values of several train-test splits"
   ]
  },
  {
   "cell_type": "code",
   "execution_count": 143,
   "metadata": {},
   "outputs": [
    {
     "data": {
      "text/html": [
       "<div>\n",
       "<style scoped>\n",
       "    .dataframe tbody tr th:only-of-type {\n",
       "        vertical-align: middle;\n",
       "    }\n",
       "\n",
       "    .dataframe tbody tr th {\n",
       "        vertical-align: top;\n",
       "    }\n",
       "\n",
       "    .dataframe thead th {\n",
       "        text-align: right;\n",
       "    }\n",
       "</style>\n",
       "<table border=\"1\" class=\"dataframe\">\n",
       "  <thead>\n",
       "    <tr style=\"text-align: right;\">\n",
       "      <th></th>\n",
       "      <th>MAE</th>\n",
       "      <th>MSE</th>\n",
       "      <th>R^2</th>\n",
       "    </tr>\n",
       "  </thead>\n",
       "  <tbody>\n",
       "    <tr>\n",
       "      <th>Augmented</th>\n",
       "      <td>0.335668</td>\n",
       "      <td>0.193850</td>\n",
       "      <td>0.603708</td>\n",
       "    </tr>\n",
       "    <tr>\n",
       "      <th>Baseline</th>\n",
       "      <td>0.457220</td>\n",
       "      <td>0.327260</td>\n",
       "      <td>0.330976</td>\n",
       "    </tr>\n",
       "    <tr>\n",
       "      <th>RF</th>\n",
       "      <td>0.396771</td>\n",
       "      <td>0.255988</td>\n",
       "      <td>0.476679</td>\n",
       "    </tr>\n",
       "    <tr>\n",
       "      <th>RF-CV</th>\n",
       "      <td>0.399259</td>\n",
       "      <td>0.262657</td>\n",
       "      <td>0.461876</td>\n",
       "    </tr>\n",
       "  </tbody>\n",
       "</table>\n",
       "</div>"
      ],
      "text/plain": [
       "                MAE       MSE       R^2\n",
       "Augmented  0.335668  0.193850  0.603708\n",
       "Baseline   0.457220  0.327260  0.330976\n",
       "RF         0.396771  0.255988  0.476679\n",
       "RF-CV      0.399259  0.262657  0.461876"
      ]
     },
     "execution_count": 143,
     "metadata": {},
     "output_type": "execute_result"
    }
   ],
   "source": [
    "rf_cv = pd.Series({'R^2': metrics.r2_score(y_test, m4_cv), \n",
    "                'MSE': metrics.mean_squared_error(y_test, m4_cv),\n",
    "                'MAE': metrics.mean_absolute_error(y_test, m4_cv)})\n",
    "\n",
    "pd.concat([perf,\n",
    "           pd.DataFrame({'RF': rf}).T,\n",
    "           pd.DataFrame({'RF-CV': rf_cv}).T])"
   ]
  }
 ],
 "metadata": {
  "kernelspec": {
   "display_name": "Python 3",
   "language": "python",
   "name": "python3"
  },
  "language_info": {
   "codemirror_mode": {
    "name": "ipython",
    "version": 3
   },
   "file_extension": ".py",
   "mimetype": "text/x-python",
   "name": "python",
   "nbconvert_exporter": "python",
   "pygments_lexer": "ipython3",
   "version": "3.6.4"
  }
 },
 "nbformat": 4,
 "nbformat_minor": 2
}
