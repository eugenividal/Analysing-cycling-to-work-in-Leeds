{
 "cells": [
  {
   "cell_type": "markdown",
   "metadata": {},
   "source": [
    "# Exploring data - working with APIs\n",
    "\n",
    "![](../figs/d2s1_website.png)"
   ]
  },
  {
   "cell_type": "code",
   "execution_count": 21,
   "metadata": {},
   "outputs": [
    {
     "data": {
      "text/html": [
       "<div>\n",
       "<style scoped>\n",
       "    .dataframe tbody tr th:only-of-type {\n",
       "        vertical-align: middle;\n",
       "    }\n",
       "\n",
       "    .dataframe tbody tr th {\n",
       "        vertical-align: top;\n",
       "    }\n",
       "\n",
       "    .dataframe thead th {\n",
       "        text-align: right;\n",
       "    }\n",
       "</style>\n",
       "<table border=\"1\" class=\"dataframe\">\n",
       "  <thead>\n",
       "    <tr style=\"text-align: right;\">\n",
       "      <th></th>\n",
       "      <th>longitude</th>\n",
       "      <th>latitude</th>\n",
       "    </tr>\n",
       "    <tr>\n",
       "      <th>id</th>\n",
       "      <th></th>\n",
       "      <th></th>\n",
       "    </tr>\n",
       "  </thead>\n",
       "  <tbody>\n",
       "    <tr>\n",
       "      <th>15896822</th>\n",
       "      <td>-0.306323</td>\n",
       "      <td>51.410036</td>\n",
       "    </tr>\n",
       "    <tr>\n",
       "      <th>4836957</th>\n",
       "      <td>-0.290704</td>\n",
       "      <td>51.411482</td>\n",
       "    </tr>\n",
       "    <tr>\n",
       "      <th>13355982</th>\n",
       "      <td>-0.286496</td>\n",
       "      <td>51.415851</td>\n",
       "    </tr>\n",
       "    <tr>\n",
       "      <th>13472704</th>\n",
       "      <td>-0.292246</td>\n",
       "      <td>51.415723</td>\n",
       "    </tr>\n",
       "    <tr>\n",
       "      <th>17430865</th>\n",
       "      <td>-0.275426</td>\n",
       "      <td>51.404285</td>\n",
       "    </tr>\n",
       "  </tbody>\n",
       "</table>\n",
       "</div>"
      ],
      "text/plain": [
       "          longitude   latitude\n",
       "id                            \n",
       "15896822  -0.306323  51.410036\n",
       "4836957   -0.290704  51.411482\n",
       "13355982  -0.286496  51.415851\n",
       "13472704  -0.292246  51.415723\n",
       "17430865  -0.275426  51.404285"
      ]
     },
     "execution_count": 21,
     "metadata": {},
     "output_type": "execute_result"
    }
   ],
   "source": [
    "%matplotlib inline\n",
    "\n",
    "import pandas as pd\n",
    "import requests\n",
    "import json\n",
    "\n",
    "db = pd.read_csv('data/analysis_ready.csv.gz')\\\n",
    "       .set_index('id')\\\n",
    "       .loc[:, ['longitude', 'latitude']]\n",
    "db.head()"
   ]
  },
  {
   "cell_type": "markdown",
   "metadata": {},
   "source": [
    "![](../figs/d2s1_api.png)\n",
    "\n",
    "Eg.\n",
    "\n",
    "> `https://data.police.uk/api/outcomes-at-location?date=2017-01&location_id=883498`"
   ]
  },
  {
   "cell_type": "code",
   "execution_count": 17,
   "metadata": {},
   "outputs": [
    {
     "data": {
      "text/plain": [
       "'https://data.police.uk/api/outcomes-at-location?date=2017-03&lat=53.40146&lng=-2.96459'"
      ]
     },
     "execution_count": 17,
     "metadata": {},
     "output_type": "execute_result"
    }
   ],
   "source": [
    "url = ('https://data.police.uk/api/outcomes-at-location?'\\\n",
    "       'date=2017-03&lat=53.40146&lng=-2.96459')\n",
    "url"
   ]
  },
  {
   "cell_type": "markdown",
   "metadata": {},
   "source": [
    "Try it in a browser!\n",
    "\n",
    "![](../figs/d2s1_json.png)"
   ]
  },
  {
   "cell_type": "code",
   "execution_count": 18,
   "metadata": {
    "collapsed": true
   },
   "outputs": [],
   "source": [
    "r = requests.get(url)"
   ]
  },
  {
   "cell_type": "code",
   "execution_count": 20,
   "metadata": {},
   "outputs": [
    {
     "data": {
      "text/plain": [
       "b'[{\"category\":{\"code\":\"court-result-unavailable\",\"name\":\"Court result unavailable\"},\"date\":\"2017-09\",'"
      ]
     },
     "execution_count": 20,
     "metadata": {},
     "output_type": "execute_result"
    }
   ],
   "source": [
    "# Very large, showing only first 100 chars\n",
    "r.content[:100]"
   ]
  },
  {
   "cell_type": "code",
   "execution_count": 25,
   "metadata": {
    "collapsed": true
   },
   "outputs": [],
   "source": [
    "crimes = json.loads(r.content)"
   ]
  },
  {
   "cell_type": "markdown",
   "metadata": {},
   "source": [
    "To note:\n",
    "\n",
    "* We go from string to dictionary thanks to the JSON schema and Python dictionary data structure (what are these?)\n",
    "* Key/value system for dictionaries"
   ]
  },
  {
   "cell_type": "markdown",
   "metadata": {},
   "source": [
    "## Parsing a single crime"
   ]
  },
  {
   "cell_type": "code",
   "execution_count": 27,
   "metadata": {},
   "outputs": [
    {
     "data": {
      "text/plain": [
       "list"
      ]
     },
     "execution_count": 27,
     "metadata": {},
     "output_type": "execute_result"
    }
   ],
   "source": [
    "type(crimes)"
   ]
  },
  {
   "cell_type": "code",
   "execution_count": 28,
   "metadata": {},
   "outputs": [
    {
     "data": {
      "text/plain": [
       "1032"
      ]
     },
     "execution_count": 28,
     "metadata": {},
     "output_type": "execute_result"
    }
   ],
   "source": [
    "len(crimes)"
   ]
  },
  {
   "cell_type": "code",
   "execution_count": 29,
   "metadata": {},
   "outputs": [
    {
     "data": {
      "text/plain": [
       "{'category': {'code': 'court-result-unavailable',\n",
       "  'name': 'Court result unavailable'},\n",
       " 'crime': {'category': 'shoplifting',\n",
       "  'context': '',\n",
       "  'id': 55659241,\n",
       "  'location': {'latitude': '53.405686',\n",
       "   'longitude': '-2.983495',\n",
       "   'street': {'id': 910344, 'name': 'On or near Shopping Area'}},\n",
       "  'location_subtype': 'DEPARTMENT STORES',\n",
       "  'location_type': 'Force',\n",
       "  'month': '2017-03',\n",
       "  'persistent_id': 'afd54aeff44eea8dffb3cfcfb579b19774286c994a4ac5b89c75d443c90c3679'},\n",
       " 'date': '2017-09',\n",
       " 'person_id': None}"
      ]
     },
     "execution_count": 29,
     "metadata": {},
     "output_type": "execute_result"
    }
   ],
   "source": [
    "cr = crimes[0]\n",
    "cr"
   ]
  },
  {
   "cell_type": "code",
   "execution_count": 30,
   "metadata": {},
   "outputs": [
    {
     "data": {
      "text/plain": [
       "dict_keys(['category', 'date', 'person_id', 'crime'])"
      ]
     },
     "execution_count": 30,
     "metadata": {},
     "output_type": "execute_result"
    }
   ],
   "source": [
    "cr.keys()"
   ]
  },
  {
   "cell_type": "code",
   "execution_count": 31,
   "metadata": {},
   "outputs": [
    {
     "data": {
      "text/plain": [
       "dict_values([{'code': 'court-result-unavailable', 'name': 'Court result unavailable'}, '2017-09', None, {'category': 'shoplifting', 'location_type': 'Force', 'location': {'latitude': '53.405686', 'street': {'id': 910344, 'name': 'On or near Shopping Area'}, 'longitude': '-2.983495'}, 'context': '', 'persistent_id': 'afd54aeff44eea8dffb3cfcfb579b19774286c994a4ac5b89c75d443c90c3679', 'id': 55659241, 'location_subtype': 'DEPARTMENT STORES', 'month': '2017-03'}])"
      ]
     },
     "execution_count": 31,
     "metadata": {},
     "output_type": "execute_result"
    }
   ],
   "source": [
    "cr.values()"
   ]
  },
  {
   "cell_type": "code",
   "execution_count": 32,
   "metadata": {},
   "outputs": [
    {
     "data": {
      "text/plain": [
       "{'code': 'court-result-unavailable', 'name': 'Court result unavailable'}"
      ]
     },
     "execution_count": 32,
     "metadata": {},
     "output_type": "execute_result"
    }
   ],
   "source": [
    "cr['category']"
   ]
  },
  {
   "cell_type": "markdown",
   "metadata": {},
   "source": [
    "Let's say we want to keep:\n",
    "\n",
    "- Category code\n",
    "- Crime ID, category, and location (lon/lat)\n",
    "- Date\n",
    "- Location type and subtype"
   ]
  },
  {
   "cell_type": "code",
   "execution_count": 35,
   "metadata": {},
   "outputs": [
    {
     "data": {
      "text/plain": [
       "category_code             court-result-unavailable\n",
       "cime_category                          shoplifting\n",
       "cime_id                                   55659241\n",
       "crime_category                         shoplifting\n",
       "crime_location_subtype           DEPARTMENT STORES\n",
       "crime_location_type                          Force\n",
       "date                                       2017-03\n",
       "latitude                                 53.405686\n",
       "longitude                                -2.983495\n",
       "dtype: object"
      ]
     },
     "execution_count": 35,
     "metadata": {},
     "output_type": "execute_result"
    }
   ],
   "source": [
    "cr_parsed = pd.Series({'category_code': cr['category']['code'],\\\n",
    "                       'crime_category': cr['crime']['category'], \\\n",
    "                       'cime_id': cr['crime']['id'],\\\n",
    "                       'cime_category': cr['crime']['category'], \\\n",
    "                       'longitude': cr['crime']['location']['longitude'], \\\n",
    "                       'latitude': cr['crime']['location']['latitude'], \\\n",
    "                       'date': cr['crime']['month'], \\\n",
    "                       'crime_location_type': cr['crime']['location_type'], \\\n",
    "                       'crime_location_subtype': cr['crime']['location_subtype']\n",
    "                      })\n",
    "cr_parsed"
   ]
  },
  {
   "cell_type": "markdown",
   "metadata": {},
   "source": [
    "For advanced ninjas, here's the function version!"
   ]
  },
  {
   "cell_type": "code",
   "execution_count": 36,
   "metadata": {
    "collapsed": true
   },
   "outputs": [],
   "source": [
    "def parse_crime(cr):\n",
    "    cr_parsed = pd.Series({'category_code': cr['category']['code'],\\\n",
    "                       'crime_category': cr['crime']['category'], \\\n",
    "                       'cime_id': cr['crime']['id'],\\\n",
    "                       'cime_category': cr['crime']['category'], \\\n",
    "                       'longitude': cr['crime']['location']['longitude'], \\\n",
    "                       'latitude': cr['crime']['location']['latitude'], \\\n",
    "                       'date': cr['crime']['month'], \\\n",
    "                       'crime_location_type': cr['crime']['location_type'], \\\n",
    "                       'crime_location_subtype': cr['crime']['location_subtype']\n",
    "                      })\n",
    "    return cr_parsed"
   ]
  },
  {
   "cell_type": "code",
   "execution_count": 38,
   "metadata": {},
   "outputs": [
    {
     "data": {
      "text/plain": [
       "category_code             court-result-unavailable\n",
       "cime_category                         public-order\n",
       "cime_id                                   55655525\n",
       "crime_category                        public-order\n",
       "crime_location_subtype                        ROAD\n",
       "crime_location_type                          Force\n",
       "date                                       2017-03\n",
       "latitude                                 53.397361\n",
       "longitude                                -2.948081\n",
       "dtype: object"
      ]
     },
     "execution_count": 38,
     "metadata": {},
     "output_type": "execute_result"
    }
   ],
   "source": [
    "parse_crime(crimes[2])"
   ]
  },
  {
   "cell_type": "markdown",
   "metadata": {},
   "source": [
    "To note:\n",
    "\n",
    "* It works because argument is `cr` and the `cr` object is used throughout\n",
    "* A function (method) can be applied in any context where the object passed as `cr` (it doesn't need to be named that way) meets the expectations of the method (ie. has all the attributes it expects)"
   ]
  },
  {
   "cell_type": "markdown",
   "metadata": {},
   "source": [
    "## Parsing all crimes from a response"
   ]
  },
  {
   "cell_type": "code",
   "execution_count": 43,
   "metadata": {
    "collapsed": true
   },
   "outputs": [],
   "source": [
    "parsed = []\n",
    "\n",
    "for cr in crimes:\n",
    "    pc = parse_crime(cr)\n",
    "    parsed.append(pc)\n",
    "\n",
    "parsed = pd.DataFrame(parsed)"
   ]
  },
  {
   "cell_type": "markdown",
   "metadata": {},
   "source": [
    "To note:\n",
    "\n",
    "* `for` loop\n",
    "* Set up `parsed` first, then `append`\n",
    "* Transform a list of `Series` objects into a `DataFrame`\n",
    "* Reuse of name `parsed`\n",
    "\n",
    "Alternative approach: `map`"
   ]
  },
  {
   "cell_type": "code",
   "execution_count": 47,
   "metadata": {
    "collapsed": true
   },
   "outputs": [],
   "source": [
    "parsed = pd.DataFrame(list(map(parse_crime, crimes)))"
   ]
  },
  {
   "cell_type": "markdown",
   "metadata": {},
   "source": [
    "## Parsing crimes from several locations"
   ]
  },
  {
   "cell_type": "code",
   "execution_count": 55,
   "metadata": {
    "collapsed": true
   },
   "outputs": [],
   "source": [
    "url_base = ('https://data.police.uk/api/outcomes-at-location?'\\\n",
    "            'date=2017-03&lat=XXXlatXXX&lng=XXXlonXXX')"
   ]
  },
  {
   "cell_type": "code",
   "execution_count": null,
   "metadata": {
    "collapsed": true
   },
   "outputs": [],
   "source": [
    "%%time\n",
    "all_crimes = []\n",
    "\n",
    "for pid, xy in db.iloc[:5, :].iterrows():\n",
    "    lon, lat = xy\n",
    "    url = url_base.replace('XXXlatXXX', str(lat))\\\n",
    "                  .replace('XXXlonXXX', str(lon))\n",
    "    crimes = requests.get(url)\n",
    "    crimes = json.loads(crimes.content)\n",
    "    parsed = pd.DataFrame(list(map(parse_crime, crimes)))\n",
    "    all_crimes.append(parsed)\n",
    "\n",
    "all_crimes = pd.concat(all_crimes)"
   ]
  },
  {
   "cell_type": "markdown",
   "metadata": {},
   "source": [
    "To note:\n",
    "\n",
    "- Loop over rows efficiently with `iterrows`\n",
    "- Dynamic split (eg. `pid, xy`, `lon, lat`)\n",
    "- Customise `base_url` with `replace`\n",
    "- Use of `concat` to take a list of `DataFrame` objects and concatenate them\n",
    "\n",
    "**NOTE**: The below takes some time to run!"
   ]
  },
  {
   "cell_type": "code",
   "execution_count": null,
   "metadata": {
    "collapsed": true
   },
   "outputs": [],
   "source": [
    "%%time\n",
    "all_crimes = []\n",
    "\n",
    "for pid, xy in db.iterrows():\n",
    "    lon, lat = xy\n",
    "    url = url_base.replace('XXXlatXXX', str(lat))\\\n",
    "                  .replace('XXXlonXXX', str(lon))\n",
    "    crimes = requests.get(url)\n",
    "    crimes = json.loads(crimes.content)\n",
    "    parsed = pd.DataFrame(list(map(parse_crime, crimes)))\n",
    "    all_crimes.append(parsed)\n",
    "\n",
    "all_crimes = pd.concat(all_crimes)"
   ]
  },
  {
   "cell_type": "markdown",
   "metadata": {},
   "source": [
    "To do:\n",
    "\n",
    "- Drop duplicates\n",
    "- Write out"
   ]
  },
  {
   "cell_type": "markdown",
   "metadata": {},
   "source": [
    "**Exercise**\n",
    "\n",
    "- Obtain crimes around Abercromby Square in Liverpool for the last 12 months"
   ]
  }
 ],
 "metadata": {
  "kernelspec": {
   "display_name": "Python 3",
   "language": "python",
   "name": "python3"
  },
  "language_info": {
   "codemirror_mode": {
    "name": "ipython",
    "version": 3
   },
   "file_extension": ".py",
   "mimetype": "text/x-python",
   "name": "python",
   "nbconvert_exporter": "python",
   "pygments_lexer": "ipython3",
   "version": "3.6.3"
  }
 },
 "nbformat": 4,
 "nbformat_minor": 2
}
